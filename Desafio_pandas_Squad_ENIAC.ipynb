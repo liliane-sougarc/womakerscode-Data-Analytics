{
  "cells": [
    {
      "cell_type": "markdown",
      "metadata": {
        "id": "iaBZkl_-TZeb"
      },
      "source": [
        "# DESAFIO PYTHON PANDAS - SQUAD ENIAC"
      ]
    },
    {
      "cell_type": "markdown",
      "metadata": {
        "id": "NheAlBxr9VjT"
      },
      "source": [
        "# Desafio 1 - Importando dataset pelo pydataset\n",
        "Definição do problema: Dado o código do dataset retorne as seguintes\n",
        "informações:\n",
        "\n",
        "Código do dataset: iris\n",
        "\n",
        "Dicas:\n",
        "iris é um dataset consiste em 50 amostras de cada uma das três\n",
        "espécies de Iris ( Iris setosa, Iris virginica e Iris versicolor).;\n",
        "\n",
        "função built-in (nativa da linguagem Python): type()\n",
        "\n",
        "atributo do DataFrame: shape\n"
      ]
    },
    {
      "cell_type": "markdown",
      "metadata": {
        "id": "u8xzHAgA-OZx"
      },
      "source": [
        "1. Importe o dataset utilizando a seguinte função do pydataset:\n",
        "data(“Código”)\n"
      ]
    },
    {
      "cell_type": "code",
      "execution_count": null,
      "metadata": {
        "colab": {
          "base_uri": "https://localhost:8080/"
        },
        "collapsed": true,
        "id": "V-i7rk4Y-S92",
        "outputId": "95c5afa9-6175-4792-a790-2bef864efa63"
      },
      "outputs": [
        {
          "name": "stdout",
          "output_type": "stream",
          "text": [
            "Requirement already satisfied: pydataset in /usr/local/lib/python3.11/dist-packages (0.2.0)\n",
            "Requirement already satisfied: pandas in /usr/local/lib/python3.11/dist-packages (from pydataset) (2.2.2)\n",
            "Requirement already satisfied: numpy>=1.23.2 in /usr/local/lib/python3.11/dist-packages (from pandas->pydataset) (1.26.4)\n",
            "Requirement already satisfied: python-dateutil>=2.8.2 in /usr/local/lib/python3.11/dist-packages (from pandas->pydataset) (2.8.2)\n",
            "Requirement already satisfied: pytz>=2020.1 in /usr/local/lib/python3.11/dist-packages (from pandas->pydataset) (2025.1)\n",
            "Requirement already satisfied: tzdata>=2022.7 in /usr/local/lib/python3.11/dist-packages (from pandas->pydataset) (2025.1)\n",
            "Requirement already satisfied: six>=1.5 in /usr/local/lib/python3.11/dist-packages (from python-dateutil>=2.8.2->pandas->pydataset) (1.17.0)\n"
          ]
        }
      ],
      "source": [
        "# Install the pydataset package\n",
        "!pip install pydataset\n",
        "\n",
        "import pandas as pd\n",
        "\n",
        "# Importando a função data do pydataset\n",
        "from pydataset import data\n",
        "\n",
        "# Carregando o dataset 'iris'\n",
        "df = data(\"iris\")"
      ]
    },
    {
      "cell_type": "markdown",
      "metadata": {
        "id": "wCFbiSHb-V69"
      },
      "source": [
        "2. Imprimir na tela o dataset;\n"
      ]
    },
    {
      "cell_type": "code",
      "execution_count": null,
      "metadata": {
        "colab": {
          "base_uri": "https://localhost:8080/"
        },
        "collapsed": true,
        "id": "hjDu8eCJ-Y4x",
        "outputId": "1e67f14b-fcd5-424d-dce4-dba8eab51bc6"
      },
      "outputs": [
        {
          "name": "stdout",
          "output_type": "stream",
          "text": [
            "     Sepal.Length  Sepal.Width  Petal.Length  Petal.Width     Species\n",
            "1             5.1          3.5           1.4          0.2      setosa\n",
            "2             4.9          3.0           1.4          0.2      setosa\n",
            "3             4.7          3.2           1.3          0.2      setosa\n",
            "4             4.6          3.1           1.5          0.2      setosa\n",
            "5             5.0          3.6           1.4          0.2      setosa\n",
            "6             5.4          3.9           1.7          0.4      setosa\n",
            "7             4.6          3.4           1.4          0.3      setosa\n",
            "8             5.0          3.4           1.5          0.2      setosa\n",
            "9             4.4          2.9           1.4          0.2      setosa\n",
            "10            4.9          3.1           1.5          0.1      setosa\n",
            "11            5.4          3.7           1.5          0.2      setosa\n",
            "12            4.8          3.4           1.6          0.2      setosa\n",
            "13            4.8          3.0           1.4          0.1      setosa\n",
            "14            4.3          3.0           1.1          0.1      setosa\n",
            "15            5.8          4.0           1.2          0.2      setosa\n",
            "16            5.7          4.4           1.5          0.4      setosa\n",
            "17            5.4          3.9           1.3          0.4      setosa\n",
            "18            5.1          3.5           1.4          0.3      setosa\n",
            "19            5.7          3.8           1.7          0.3      setosa\n",
            "20            5.1          3.8           1.5          0.3      setosa\n",
            "21            5.4          3.4           1.7          0.2      setosa\n",
            "22            5.1          3.7           1.5          0.4      setosa\n",
            "23            4.6          3.6           1.0          0.2      setosa\n",
            "24            5.1          3.3           1.7          0.5      setosa\n",
            "25            4.8          3.4           1.9          0.2      setosa\n",
            "26            5.0          3.0           1.6          0.2      setosa\n",
            "27            5.0          3.4           1.6          0.4      setosa\n",
            "28            5.2          3.5           1.5          0.2      setosa\n",
            "29            5.2          3.4           1.4          0.2      setosa\n",
            "30            4.7          3.2           1.6          0.2      setosa\n",
            "31            4.8          3.1           1.6          0.2      setosa\n",
            "32            5.4          3.4           1.5          0.4      setosa\n",
            "33            5.2          4.1           1.5          0.1      setosa\n",
            "34            5.5          4.2           1.4          0.2      setosa\n",
            "35            4.9          3.1           1.5          0.2      setosa\n",
            "36            5.0          3.2           1.2          0.2      setosa\n",
            "37            5.5          3.5           1.3          0.2      setosa\n",
            "38            4.9          3.6           1.4          0.1      setosa\n",
            "39            4.4          3.0           1.3          0.2      setosa\n",
            "40            5.1          3.4           1.5          0.2      setosa\n",
            "41            5.0          3.5           1.3          0.3      setosa\n",
            "42            4.5          2.3           1.3          0.3      setosa\n",
            "43            4.4          3.2           1.3          0.2      setosa\n",
            "44            5.0          3.5           1.6          0.6      setosa\n",
            "45            5.1          3.8           1.9          0.4      setosa\n",
            "46            4.8          3.0           1.4          0.3      setosa\n",
            "47            5.1          3.8           1.6          0.2      setosa\n",
            "48            4.6          3.2           1.4          0.2      setosa\n",
            "49            5.3          3.7           1.5          0.2      setosa\n",
            "50            5.0          3.3           1.4          0.2      setosa\n",
            "51            7.0          3.2           4.7          1.4  versicolor\n",
            "52            6.4          3.2           4.5          1.5  versicolor\n",
            "53            6.9          3.1           4.9          1.5  versicolor\n",
            "54            5.5          2.3           4.0          1.3  versicolor\n",
            "55            6.5          2.8           4.6          1.5  versicolor\n",
            "56            5.7          2.8           4.5          1.3  versicolor\n",
            "57            6.3          3.3           4.7          1.6  versicolor\n",
            "58            4.9          2.4           3.3          1.0  versicolor\n",
            "59            6.6          2.9           4.6          1.3  versicolor\n",
            "60            5.2          2.7           3.9          1.4  versicolor\n",
            "61            5.0          2.0           3.5          1.0  versicolor\n",
            "62            5.9          3.0           4.2          1.5  versicolor\n",
            "63            6.0          2.2           4.0          1.0  versicolor\n",
            "64            6.1          2.9           4.7          1.4  versicolor\n",
            "65            5.6          2.9           3.6          1.3  versicolor\n",
            "66            6.7          3.1           4.4          1.4  versicolor\n",
            "67            5.6          3.0           4.5          1.5  versicolor\n",
            "68            5.8          2.7           4.1          1.0  versicolor\n",
            "69            6.2          2.2           4.5          1.5  versicolor\n",
            "70            5.6          2.5           3.9          1.1  versicolor\n",
            "71            5.9          3.2           4.8          1.8  versicolor\n",
            "72            6.1          2.8           4.0          1.3  versicolor\n",
            "73            6.3          2.5           4.9          1.5  versicolor\n",
            "74            6.1          2.8           4.7          1.2  versicolor\n",
            "75            6.4          2.9           4.3          1.3  versicolor\n",
            "76            6.6          3.0           4.4          1.4  versicolor\n",
            "77            6.8          2.8           4.8          1.4  versicolor\n",
            "78            6.7          3.0           5.0          1.7  versicolor\n",
            "79            6.0          2.9           4.5          1.5  versicolor\n",
            "80            5.7          2.6           3.5          1.0  versicolor\n",
            "81            5.5          2.4           3.8          1.1  versicolor\n",
            "82            5.5          2.4           3.7          1.0  versicolor\n",
            "83            5.8          2.7           3.9          1.2  versicolor\n",
            "84            6.0          2.7           5.1          1.6  versicolor\n",
            "85            5.4          3.0           4.5          1.5  versicolor\n",
            "86            6.0          3.4           4.5          1.6  versicolor\n",
            "87            6.7          3.1           4.7          1.5  versicolor\n",
            "88            6.3          2.3           4.4          1.3  versicolor\n",
            "89            5.6          3.0           4.1          1.3  versicolor\n",
            "90            5.5          2.5           4.0          1.3  versicolor\n",
            "91            5.5          2.6           4.4          1.2  versicolor\n",
            "92            6.1          3.0           4.6          1.4  versicolor\n",
            "93            5.8          2.6           4.0          1.2  versicolor\n",
            "94            5.0          2.3           3.3          1.0  versicolor\n",
            "95            5.6          2.7           4.2          1.3  versicolor\n",
            "96            5.7          3.0           4.2          1.2  versicolor\n",
            "97            5.7          2.9           4.2          1.3  versicolor\n",
            "98            6.2          2.9           4.3          1.3  versicolor\n",
            "99            5.1          2.5           3.0          1.1  versicolor\n",
            "100           5.7          2.8           4.1          1.3  versicolor\n",
            "101           6.3          3.3           6.0          2.5   virginica\n",
            "102           5.8          2.7           5.1          1.9   virginica\n",
            "103           7.1          3.0           5.9          2.1   virginica\n",
            "104           6.3          2.9           5.6          1.8   virginica\n",
            "105           6.5          3.0           5.8          2.2   virginica\n",
            "106           7.6          3.0           6.6          2.1   virginica\n",
            "107           4.9          2.5           4.5          1.7   virginica\n",
            "108           7.3          2.9           6.3          1.8   virginica\n",
            "109           6.7          2.5           5.8          1.8   virginica\n",
            "110           7.2          3.6           6.1          2.5   virginica\n",
            "111           6.5          3.2           5.1          2.0   virginica\n",
            "112           6.4          2.7           5.3          1.9   virginica\n",
            "113           6.8          3.0           5.5          2.1   virginica\n",
            "114           5.7          2.5           5.0          2.0   virginica\n",
            "115           5.8          2.8           5.1          2.4   virginica\n",
            "116           6.4          3.2           5.3          2.3   virginica\n",
            "117           6.5          3.0           5.5          1.8   virginica\n",
            "118           7.7          3.8           6.7          2.2   virginica\n",
            "119           7.7          2.6           6.9          2.3   virginica\n",
            "120           6.0          2.2           5.0          1.5   virginica\n",
            "121           6.9          3.2           5.7          2.3   virginica\n",
            "122           5.6          2.8           4.9          2.0   virginica\n",
            "123           7.7          2.8           6.7          2.0   virginica\n",
            "124           6.3          2.7           4.9          1.8   virginica\n",
            "125           6.7          3.3           5.7          2.1   virginica\n",
            "126           7.2          3.2           6.0          1.8   virginica\n",
            "127           6.2          2.8           4.8          1.8   virginica\n",
            "128           6.1          3.0           4.9          1.8   virginica\n",
            "129           6.4          2.8           5.6          2.1   virginica\n",
            "130           7.2          3.0           5.8          1.6   virginica\n",
            "131           7.4          2.8           6.1          1.9   virginica\n",
            "132           7.9          3.8           6.4          2.0   virginica\n",
            "133           6.4          2.8           5.6          2.2   virginica\n",
            "134           6.3          2.8           5.1          1.5   virginica\n",
            "135           6.1          2.6           5.6          1.4   virginica\n",
            "136           7.7          3.0           6.1          2.3   virginica\n",
            "137           6.3          3.4           5.6          2.4   virginica\n",
            "138           6.4          3.1           5.5          1.8   virginica\n",
            "139           6.0          3.0           4.8          1.8   virginica\n",
            "140           6.9          3.1           5.4          2.1   virginica\n",
            "141           6.7          3.1           5.6          2.4   virginica\n",
            "142           6.9          3.1           5.1          2.3   virginica\n",
            "143           5.8          2.7           5.1          1.9   virginica\n",
            "144           6.8          3.2           5.9          2.3   virginica\n",
            "145           6.7          3.3           5.7          2.5   virginica\n",
            "146           6.7          3.0           5.2          2.3   virginica\n",
            "147           6.3          2.5           5.0          1.9   virginica\n",
            "148           6.5          3.0           5.2          2.0   virginica\n",
            "149           6.2          3.4           5.4          2.3   virginica\n",
            "150           5.9          3.0           5.1          1.8   virginica\n"
          ]
        }
      ],
      "source": [
        "print(df)"
      ]
    },
    {
      "cell_type": "markdown",
      "metadata": {
        "id": "dkJxtJdL-a74"
      },
      "source": [
        "3. Informe o tipo de dados retornado pela função data;\n"
      ]
    },
    {
      "cell_type": "code",
      "execution_count": null,
      "metadata": {
        "colab": {
          "base_uri": "https://localhost:8080/"
        },
        "id": "gwSCvLtd-d7c",
        "outputId": "fc3251a5-4680-49ac-fea4-557e25930794"
      },
      "outputs": [
        {
          "name": "stdout",
          "output_type": "stream",
          "text": [
            "<class 'pandas.core.frame.DataFrame'>\n"
          ]
        }
      ],
      "source": [
        "print(type(df))"
      ]
    },
    {
      "cell_type": "markdown",
      "metadata": {
        "id": "sTfjqjA--eYm"
      },
      "source": [
        "4. Informe o número de exemplos (linhas) e características (colunas) do\n",
        "dataset.\n"
      ]
    },
    {
      "cell_type": "code",
      "execution_count": null,
      "metadata": {
        "colab": {
          "base_uri": "https://localhost:8080/"
        },
        "id": "jhscCfua-grO",
        "outputId": "8f782b84-a78a-4783-9db3-7a69d357b8d7"
      },
      "outputs": [
        {
          "name": "stdout",
          "output_type": "stream",
          "text": [
            "Número de exemplos (linhas): 150\n",
            "Número de características (colunas): 5\n"
          ]
        }
      ],
      "source": [
        "# Informe o número de exemplos (linhas) e características (colunas) do dataset.\n",
        "print(f\"Número de exemplos (linhas): {df.shape[0]}\")\n",
        "print(f\"Número de características (colunas): {df.shape[1]}\")\n"
      ]
    },
    {
      "cell_type": "markdown",
      "metadata": {
        "id": "76ACaigb-hMZ"
      },
      "source": [
        "5. Crie uma função que ao receber um DataFrame retorna o\n",
        "número de linhas e colunas.\n"
      ]
    },
    {
      "cell_type": "code",
      "execution_count": null,
      "metadata": {
        "colab": {
          "base_uri": "https://localhost:8080/"
        },
        "collapsed": true,
        "id": "Yv2YlrhX-ku2",
        "outputId": "bf0d7a36-ecae-4026-fd64-1f93f17dab81"
      },
      "outputs": [
        {
          "name": "stdout",
          "output_type": "stream",
          "text": [
            "     Sepal.Length  Sepal.Width  Petal.Length  Petal.Width     Species\n",
            "1             5.1          3.5           1.4          0.2      setosa\n",
            "2             4.9          3.0           1.4          0.2      setosa\n",
            "3             4.7          3.2           1.3          0.2      setosa\n",
            "4             4.6          3.1           1.5          0.2      setosa\n",
            "5             5.0          3.6           1.4          0.2      setosa\n",
            "6             5.4          3.9           1.7          0.4      setosa\n",
            "7             4.6          3.4           1.4          0.3      setosa\n",
            "8             5.0          3.4           1.5          0.2      setosa\n",
            "9             4.4          2.9           1.4          0.2      setosa\n",
            "10            4.9          3.1           1.5          0.1      setosa\n",
            "11            5.4          3.7           1.5          0.2      setosa\n",
            "12            4.8          3.4           1.6          0.2      setosa\n",
            "13            4.8          3.0           1.4          0.1      setosa\n",
            "14            4.3          3.0           1.1          0.1      setosa\n",
            "15            5.8          4.0           1.2          0.2      setosa\n",
            "16            5.7          4.4           1.5          0.4      setosa\n",
            "17            5.4          3.9           1.3          0.4      setosa\n",
            "18            5.1          3.5           1.4          0.3      setosa\n",
            "19            5.7          3.8           1.7          0.3      setosa\n",
            "20            5.1          3.8           1.5          0.3      setosa\n",
            "21            5.4          3.4           1.7          0.2      setosa\n",
            "22            5.1          3.7           1.5          0.4      setosa\n",
            "23            4.6          3.6           1.0          0.2      setosa\n",
            "24            5.1          3.3           1.7          0.5      setosa\n",
            "25            4.8          3.4           1.9          0.2      setosa\n",
            "26            5.0          3.0           1.6          0.2      setosa\n",
            "27            5.0          3.4           1.6          0.4      setosa\n",
            "28            5.2          3.5           1.5          0.2      setosa\n",
            "29            5.2          3.4           1.4          0.2      setosa\n",
            "30            4.7          3.2           1.6          0.2      setosa\n",
            "31            4.8          3.1           1.6          0.2      setosa\n",
            "32            5.4          3.4           1.5          0.4      setosa\n",
            "33            5.2          4.1           1.5          0.1      setosa\n",
            "34            5.5          4.2           1.4          0.2      setosa\n",
            "35            4.9          3.1           1.5          0.2      setosa\n",
            "36            5.0          3.2           1.2          0.2      setosa\n",
            "37            5.5          3.5           1.3          0.2      setosa\n",
            "38            4.9          3.6           1.4          0.1      setosa\n",
            "39            4.4          3.0           1.3          0.2      setosa\n",
            "40            5.1          3.4           1.5          0.2      setosa\n",
            "41            5.0          3.5           1.3          0.3      setosa\n",
            "42            4.5          2.3           1.3          0.3      setosa\n",
            "43            4.4          3.2           1.3          0.2      setosa\n",
            "44            5.0          3.5           1.6          0.6      setosa\n",
            "45            5.1          3.8           1.9          0.4      setosa\n",
            "46            4.8          3.0           1.4          0.3      setosa\n",
            "47            5.1          3.8           1.6          0.2      setosa\n",
            "48            4.6          3.2           1.4          0.2      setosa\n",
            "49            5.3          3.7           1.5          0.2      setosa\n",
            "50            5.0          3.3           1.4          0.2      setosa\n",
            "51            7.0          3.2           4.7          1.4  versicolor\n",
            "52            6.4          3.2           4.5          1.5  versicolor\n",
            "53            6.9          3.1           4.9          1.5  versicolor\n",
            "54            5.5          2.3           4.0          1.3  versicolor\n",
            "55            6.5          2.8           4.6          1.5  versicolor\n",
            "56            5.7          2.8           4.5          1.3  versicolor\n",
            "57            6.3          3.3           4.7          1.6  versicolor\n",
            "58            4.9          2.4           3.3          1.0  versicolor\n",
            "59            6.6          2.9           4.6          1.3  versicolor\n",
            "60            5.2          2.7           3.9          1.4  versicolor\n",
            "61            5.0          2.0           3.5          1.0  versicolor\n",
            "62            5.9          3.0           4.2          1.5  versicolor\n",
            "63            6.0          2.2           4.0          1.0  versicolor\n",
            "64            6.1          2.9           4.7          1.4  versicolor\n",
            "65            5.6          2.9           3.6          1.3  versicolor\n",
            "66            6.7          3.1           4.4          1.4  versicolor\n",
            "67            5.6          3.0           4.5          1.5  versicolor\n",
            "68            5.8          2.7           4.1          1.0  versicolor\n",
            "69            6.2          2.2           4.5          1.5  versicolor\n",
            "70            5.6          2.5           3.9          1.1  versicolor\n",
            "71            5.9          3.2           4.8          1.8  versicolor\n",
            "72            6.1          2.8           4.0          1.3  versicolor\n",
            "73            6.3          2.5           4.9          1.5  versicolor\n",
            "74            6.1          2.8           4.7          1.2  versicolor\n",
            "75            6.4          2.9           4.3          1.3  versicolor\n",
            "76            6.6          3.0           4.4          1.4  versicolor\n",
            "77            6.8          2.8           4.8          1.4  versicolor\n",
            "78            6.7          3.0           5.0          1.7  versicolor\n",
            "79            6.0          2.9           4.5          1.5  versicolor\n",
            "80            5.7          2.6           3.5          1.0  versicolor\n",
            "81            5.5          2.4           3.8          1.1  versicolor\n",
            "82            5.5          2.4           3.7          1.0  versicolor\n",
            "83            5.8          2.7           3.9          1.2  versicolor\n",
            "84            6.0          2.7           5.1          1.6  versicolor\n",
            "85            5.4          3.0           4.5          1.5  versicolor\n",
            "86            6.0          3.4           4.5          1.6  versicolor\n",
            "87            6.7          3.1           4.7          1.5  versicolor\n",
            "88            6.3          2.3           4.4          1.3  versicolor\n",
            "89            5.6          3.0           4.1          1.3  versicolor\n",
            "90            5.5          2.5           4.0          1.3  versicolor\n",
            "91            5.5          2.6           4.4          1.2  versicolor\n",
            "92            6.1          3.0           4.6          1.4  versicolor\n",
            "93            5.8          2.6           4.0          1.2  versicolor\n",
            "94            5.0          2.3           3.3          1.0  versicolor\n",
            "95            5.6          2.7           4.2          1.3  versicolor\n",
            "96            5.7          3.0           4.2          1.2  versicolor\n",
            "97            5.7          2.9           4.2          1.3  versicolor\n",
            "98            6.2          2.9           4.3          1.3  versicolor\n",
            "99            5.1          2.5           3.0          1.1  versicolor\n",
            "100           5.7          2.8           4.1          1.3  versicolor\n",
            "101           6.3          3.3           6.0          2.5   virginica\n",
            "102           5.8          2.7           5.1          1.9   virginica\n",
            "103           7.1          3.0           5.9          2.1   virginica\n",
            "104           6.3          2.9           5.6          1.8   virginica\n",
            "105           6.5          3.0           5.8          2.2   virginica\n",
            "106           7.6          3.0           6.6          2.1   virginica\n",
            "107           4.9          2.5           4.5          1.7   virginica\n",
            "108           7.3          2.9           6.3          1.8   virginica\n",
            "109           6.7          2.5           5.8          1.8   virginica\n",
            "110           7.2          3.6           6.1          2.5   virginica\n",
            "111           6.5          3.2           5.1          2.0   virginica\n",
            "112           6.4          2.7           5.3          1.9   virginica\n",
            "113           6.8          3.0           5.5          2.1   virginica\n",
            "114           5.7          2.5           5.0          2.0   virginica\n",
            "115           5.8          2.8           5.1          2.4   virginica\n",
            "116           6.4          3.2           5.3          2.3   virginica\n",
            "117           6.5          3.0           5.5          1.8   virginica\n",
            "118           7.7          3.8           6.7          2.2   virginica\n",
            "119           7.7          2.6           6.9          2.3   virginica\n",
            "120           6.0          2.2           5.0          1.5   virginica\n",
            "121           6.9          3.2           5.7          2.3   virginica\n",
            "122           5.6          2.8           4.9          2.0   virginica\n",
            "123           7.7          2.8           6.7          2.0   virginica\n",
            "124           6.3          2.7           4.9          1.8   virginica\n",
            "125           6.7          3.3           5.7          2.1   virginica\n",
            "126           7.2          3.2           6.0          1.8   virginica\n",
            "127           6.2          2.8           4.8          1.8   virginica\n",
            "128           6.1          3.0           4.9          1.8   virginica\n",
            "129           6.4          2.8           5.6          2.1   virginica\n",
            "130           7.2          3.0           5.8          1.6   virginica\n",
            "131           7.4          2.8           6.1          1.9   virginica\n",
            "132           7.9          3.8           6.4          2.0   virginica\n",
            "133           6.4          2.8           5.6          2.2   virginica\n",
            "134           6.3          2.8           5.1          1.5   virginica\n",
            "135           6.1          2.6           5.6          1.4   virginica\n",
            "136           7.7          3.0           6.1          2.3   virginica\n",
            "137           6.3          3.4           5.6          2.4   virginica\n",
            "138           6.4          3.1           5.5          1.8   virginica\n",
            "139           6.0          3.0           4.8          1.8   virginica\n",
            "140           6.9          3.1           5.4          2.1   virginica\n",
            "141           6.7          3.1           5.6          2.4   virginica\n",
            "142           6.9          3.1           5.1          2.3   virginica\n",
            "143           5.8          2.7           5.1          1.9   virginica\n",
            "144           6.8          3.2           5.9          2.3   virginica\n",
            "145           6.7          3.3           5.7          2.5   virginica\n",
            "146           6.7          3.0           5.2          2.3   virginica\n",
            "147           6.3          2.5           5.0          1.9   virginica\n",
            "148           6.5          3.0           5.2          2.0   virginica\n",
            "149           6.2          3.4           5.4          2.3   virginica\n",
            "150           5.9          3.0           5.1          1.8   virginica\n"
          ]
        }
      ],
      "source": [
        "import pandas as pd\n",
        "def get_dataframe_shape(df):\n",
        "  \"\"\"\n",
        "  Retorna o número de linhas e colunas de um DataFrame.\n",
        "\n",
        "  Args:\n",
        "    df: Um DataFrame pandas.\n",
        "\n",
        "  Returns:\n",
        "    Uma tupla contendo o número de linhas e colunas.\n",
        "  \"\"\"\n",
        "  if not isinstance(df, pd.DataFrame):\n",
        "    raise TypeError(\"O argumento deve ser um DataFrame pandas.\")\n",
        "  return df.shape\n",
        "print(df)\n"
      ]
    },
    {
      "cell_type": "markdown",
      "metadata": {
        "id": "gg6k4cUa-nQL"
      },
      "source": [
        "# Desafio 2: PlantGrowth\n",
        "Definição do problema: Dada a tabela com o peso e grupo das\n",
        "plantas\n",
        "\n",
        "Código do dataset: PlantGrowth\n",
        "\n",
        "Dicas: atributo do DataFrame: groupby, agg\n",
        "\n",
        "\n",
        "\n"
      ]
    },
    {
      "cell_type": "markdown",
      "metadata": {
        "id": "ZkqqDVN-JK-4"
      },
      "source": [
        "1. Calcule a média do peso (weight) para cada grupo (group).\n"
      ]
    },
    {
      "cell_type": "code",
      "execution_count": null,
      "metadata": {
        "colab": {
          "base_uri": "https://localhost:8080/",
          "height": 209
        },
        "id": "EKfQZQVNJNl2",
        "outputId": "064821d5-0425-4130-ca01-7c2ceda39c69"
      },
      "outputs": [
        {
          "data": {
            "text/html": [
              "<div>\n",
              "<style scoped>\n",
              "    .dataframe tbody tr th:only-of-type {\n",
              "        vertical-align: middle;\n",
              "    }\n",
              "\n",
              "    .dataframe tbody tr th {\n",
              "        vertical-align: top;\n",
              "    }\n",
              "\n",
              "    .dataframe thead th {\n",
              "        text-align: right;\n",
              "    }\n",
              "</style>\n",
              "<table border=\"1\" class=\"dataframe\">\n",
              "  <thead>\n",
              "    <tr style=\"text-align: right;\">\n",
              "      <th></th>\n",
              "      <th>weight</th>\n",
              "    </tr>\n",
              "    <tr>\n",
              "      <th>group</th>\n",
              "      <th></th>\n",
              "    </tr>\n",
              "  </thead>\n",
              "  <tbody>\n",
              "    <tr>\n",
              "      <th>ctrl</th>\n",
              "      <td>5.032</td>\n",
              "    </tr>\n",
              "    <tr>\n",
              "      <th>trt1</th>\n",
              "      <td>4.661</td>\n",
              "    </tr>\n",
              "    <tr>\n",
              "      <th>trt2</th>\n",
              "      <td>5.526</td>\n",
              "    </tr>\n",
              "  </tbody>\n",
              "</table>\n",
              "</div><br><label><b>dtype:</b> float64</label>"
            ],
            "text/plain": [
              "group\n",
              "ctrl    5.032\n",
              "trt1    4.661\n",
              "trt2    5.526\n",
              "Name: weight, dtype: float64"
            ]
          },
          "execution_count": 25,
          "metadata": {},
          "output_type": "execute_result"
        }
      ],
      "source": [
        "import pandas as pd\n",
        "from pydataset import data\n",
        "\n",
        "# Carregando o dataset 'PlantGrowth'\n",
        "df_plant = data(\"PlantGrowth\")\n",
        "\n",
        "# Calculando a média do peso para cada grupo\n",
        "media_por_grupo = df_plant.groupby('group')['weight'].mean()\n",
        "\n",
        "# Imprimindo o resultado\n",
        "media_por_grupo\n"
      ]
    },
    {
      "cell_type": "markdown",
      "metadata": {
        "id": "CU_K9V1AJOWR"
      },
      "source": [
        "2. Verifique se algum grupo tem peso médio maior que 6.\n"
      ]
    },
    {
      "cell_type": "code",
      "execution_count": null,
      "metadata": {
        "colab": {
          "base_uri": "https://localhost:8080/"
        },
        "id": "wFaYAs-5JQrS",
        "outputId": "7b0afdcf-1f17-439e-a92b-12fbd9e72ed3"
      },
      "outputs": [
        {
          "name": "stdout",
          "output_type": "stream",
          "text": [
            "Algum grupo tem peso médio maior que 6: False\n"
          ]
        }
      ],
      "source": [
        "# Verificando se algum grupo tem peso médio maior que 6\n",
        "algum_grupo_maior_que_6 = media_por_grupo[media_por_grupo > 6].any()\n",
        "\n",
        "# Imprimindo o resultado\n",
        "print(f\"Algum grupo tem peso médio maior que 6: {algum_grupo_maior_que_6}\")\n"
      ]
    },
    {
      "cell_type": "markdown",
      "metadata": {
        "id": "dMIozLeaJRIw"
      },
      "source": [
        "3. Crie uma tabela mostrando o peso máximo e mínimo por grupo.\n"
      ]
    },
    {
      "cell_type": "code",
      "execution_count": null,
      "metadata": {
        "colab": {
          "base_uri": "https://localhost:8080/",
          "height": 175
        },
        "collapsed": true,
        "id": "f39C4plbJSXa",
        "outputId": "c1caf54e-a9de-43db-c704-962023647ee8"
      },
      "outputs": [
        {
          "data": {
            "application/vnd.google.colaboratory.intrinsic+json": {
              "summary": "{\n  \"name\": \"peso_max_min_por_grupo\",\n  \"rows\": 3,\n  \"fields\": [\n    {\n      \"column\": \"group\",\n      \"properties\": {\n        \"dtype\": \"string\",\n        \"num_unique_values\": 3,\n        \"samples\": [\n          \"ctrl\",\n          \"trt1\",\n          \"trt2\"\n        ],\n        \"semantic_type\": \"\",\n        \"description\": \"\"\n      }\n    },\n    {\n      \"column\": \"max\",\n      \"properties\": {\n        \"dtype\": \"number\",\n        \"std\": 0.1442220510185592,\n        \"min\": 6.03,\n        \"max\": 6.31,\n        \"num_unique_values\": 3,\n        \"samples\": [\n          6.11,\n          6.03,\n          6.31\n        ],\n        \"semantic_type\": \"\",\n        \"description\": \"\"\n      }\n    },\n    {\n      \"column\": \"min\",\n      \"properties\": {\n        \"dtype\": \"number\",\n        \"std\": 0.6668083182844478,\n        \"min\": 3.59,\n        \"max\": 4.92,\n        \"num_unique_values\": 3,\n        \"samples\": [\n          4.17,\n          3.59,\n          4.92\n        ],\n        \"semantic_type\": \"\",\n        \"description\": \"\"\n      }\n    }\n  ]\n}",
              "type": "dataframe",
              "variable_name": "peso_max_min_por_grupo"
            },
            "text/html": [
              "\n",
              "  <div id=\"df-04020eb4-a2bb-4c73-8faf-92cb0bf45e1d\" class=\"colab-df-container\">\n",
              "    <div>\n",
              "<style scoped>\n",
              "    .dataframe tbody tr th:only-of-type {\n",
              "        vertical-align: middle;\n",
              "    }\n",
              "\n",
              "    .dataframe tbody tr th {\n",
              "        vertical-align: top;\n",
              "    }\n",
              "\n",
              "    .dataframe thead th {\n",
              "        text-align: right;\n",
              "    }\n",
              "</style>\n",
              "<table border=\"1\" class=\"dataframe\">\n",
              "  <thead>\n",
              "    <tr style=\"text-align: right;\">\n",
              "      <th></th>\n",
              "      <th>max</th>\n",
              "      <th>min</th>\n",
              "    </tr>\n",
              "    <tr>\n",
              "      <th>group</th>\n",
              "      <th></th>\n",
              "      <th></th>\n",
              "    </tr>\n",
              "  </thead>\n",
              "  <tbody>\n",
              "    <tr>\n",
              "      <th>ctrl</th>\n",
              "      <td>6.11</td>\n",
              "      <td>4.17</td>\n",
              "    </tr>\n",
              "    <tr>\n",
              "      <th>trt1</th>\n",
              "      <td>6.03</td>\n",
              "      <td>3.59</td>\n",
              "    </tr>\n",
              "    <tr>\n",
              "      <th>trt2</th>\n",
              "      <td>6.31</td>\n",
              "      <td>4.92</td>\n",
              "    </tr>\n",
              "  </tbody>\n",
              "</table>\n",
              "</div>\n",
              "    <div class=\"colab-df-buttons\">\n",
              "\n",
              "  <div class=\"colab-df-container\">\n",
              "    <button class=\"colab-df-convert\" onclick=\"convertToInteractive('df-04020eb4-a2bb-4c73-8faf-92cb0bf45e1d')\"\n",
              "            title=\"Convert this dataframe to an interactive table.\"\n",
              "            style=\"display:none;\">\n",
              "\n",
              "  <svg xmlns=\"http://www.w3.org/2000/svg\" height=\"24px\" viewBox=\"0 -960 960 960\">\n",
              "    <path d=\"M120-120v-720h720v720H120Zm60-500h600v-160H180v160Zm220 220h160v-160H400v160Zm0 220h160v-160H400v160ZM180-400h160v-160H180v160Zm440 0h160v-160H620v160ZM180-180h160v-160H180v160Zm440 0h160v-160H620v160Z\"/>\n",
              "  </svg>\n",
              "    </button>\n",
              "\n",
              "  <style>\n",
              "    .colab-df-container {\n",
              "      display:flex;\n",
              "      gap: 12px;\n",
              "    }\n",
              "\n",
              "    .colab-df-convert {\n",
              "      background-color: #E8F0FE;\n",
              "      border: none;\n",
              "      border-radius: 50%;\n",
              "      cursor: pointer;\n",
              "      display: none;\n",
              "      fill: #1967D2;\n",
              "      height: 32px;\n",
              "      padding: 0 0 0 0;\n",
              "      width: 32px;\n",
              "    }\n",
              "\n",
              "    .colab-df-convert:hover {\n",
              "      background-color: #E2EBFA;\n",
              "      box-shadow: 0px 1px 2px rgba(60, 64, 67, 0.3), 0px 1px 3px 1px rgba(60, 64, 67, 0.15);\n",
              "      fill: #174EA6;\n",
              "    }\n",
              "\n",
              "    .colab-df-buttons div {\n",
              "      margin-bottom: 4px;\n",
              "    }\n",
              "\n",
              "    [theme=dark] .colab-df-convert {\n",
              "      background-color: #3B4455;\n",
              "      fill: #D2E3FC;\n",
              "    }\n",
              "\n",
              "    [theme=dark] .colab-df-convert:hover {\n",
              "      background-color: #434B5C;\n",
              "      box-shadow: 0px 1px 3px 1px rgba(0, 0, 0, 0.15);\n",
              "      filter: drop-shadow(0px 1px 2px rgba(0, 0, 0, 0.3));\n",
              "      fill: #FFFFFF;\n",
              "    }\n",
              "  </style>\n",
              "\n",
              "    <script>\n",
              "      const buttonEl =\n",
              "        document.querySelector('#df-04020eb4-a2bb-4c73-8faf-92cb0bf45e1d button.colab-df-convert');\n",
              "      buttonEl.style.display =\n",
              "        google.colab.kernel.accessAllowed ? 'block' : 'none';\n",
              "\n",
              "      async function convertToInteractive(key) {\n",
              "        const element = document.querySelector('#df-04020eb4-a2bb-4c73-8faf-92cb0bf45e1d');\n",
              "        const dataTable =\n",
              "          await google.colab.kernel.invokeFunction('convertToInteractive',\n",
              "                                                    [key], {});\n",
              "        if (!dataTable) return;\n",
              "\n",
              "        const docLinkHtml = 'Like what you see? Visit the ' +\n",
              "          '<a target=\"_blank\" href=https://colab.research.google.com/notebooks/data_table.ipynb>data table notebook</a>'\n",
              "          + ' to learn more about interactive tables.';\n",
              "        element.innerHTML = '';\n",
              "        dataTable['output_type'] = 'display_data';\n",
              "        await google.colab.output.renderOutput(dataTable, element);\n",
              "        const docLink = document.createElement('div');\n",
              "        docLink.innerHTML = docLinkHtml;\n",
              "        element.appendChild(docLink);\n",
              "      }\n",
              "    </script>\n",
              "  </div>\n",
              "\n",
              "\n",
              "<div id=\"df-ec8f0e74-742c-4517-94c5-5a1393e7837f\">\n",
              "  <button class=\"colab-df-quickchart\" onclick=\"quickchart('df-ec8f0e74-742c-4517-94c5-5a1393e7837f')\"\n",
              "            title=\"Suggest charts\"\n",
              "            style=\"display:none;\">\n",
              "\n",
              "<svg xmlns=\"http://www.w3.org/2000/svg\" height=\"24px\"viewBox=\"0 0 24 24\"\n",
              "     width=\"24px\">\n",
              "    <g>\n",
              "        <path d=\"M19 3H5c-1.1 0-2 .9-2 2v14c0 1.1.9 2 2 2h14c1.1 0 2-.9 2-2V5c0-1.1-.9-2-2-2zM9 17H7v-7h2v7zm4 0h-2V7h2v10zm4 0h-2v-4h2v4z\"/>\n",
              "    </g>\n",
              "</svg>\n",
              "  </button>\n",
              "\n",
              "<style>\n",
              "  .colab-df-quickchart {\n",
              "      --bg-color: #E8F0FE;\n",
              "      --fill-color: #1967D2;\n",
              "      --hover-bg-color: #E2EBFA;\n",
              "      --hover-fill-color: #174EA6;\n",
              "      --disabled-fill-color: #AAA;\n",
              "      --disabled-bg-color: #DDD;\n",
              "  }\n",
              "\n",
              "  [theme=dark] .colab-df-quickchart {\n",
              "      --bg-color: #3B4455;\n",
              "      --fill-color: #D2E3FC;\n",
              "      --hover-bg-color: #434B5C;\n",
              "      --hover-fill-color: #FFFFFF;\n",
              "      --disabled-bg-color: #3B4455;\n",
              "      --disabled-fill-color: #666;\n",
              "  }\n",
              "\n",
              "  .colab-df-quickchart {\n",
              "    background-color: var(--bg-color);\n",
              "    border: none;\n",
              "    border-radius: 50%;\n",
              "    cursor: pointer;\n",
              "    display: none;\n",
              "    fill: var(--fill-color);\n",
              "    height: 32px;\n",
              "    padding: 0;\n",
              "    width: 32px;\n",
              "  }\n",
              "\n",
              "  .colab-df-quickchart:hover {\n",
              "    background-color: var(--hover-bg-color);\n",
              "    box-shadow: 0 1px 2px rgba(60, 64, 67, 0.3), 0 1px 3px 1px rgba(60, 64, 67, 0.15);\n",
              "    fill: var(--button-hover-fill-color);\n",
              "  }\n",
              "\n",
              "  .colab-df-quickchart-complete:disabled,\n",
              "  .colab-df-quickchart-complete:disabled:hover {\n",
              "    background-color: var(--disabled-bg-color);\n",
              "    fill: var(--disabled-fill-color);\n",
              "    box-shadow: none;\n",
              "  }\n",
              "\n",
              "  .colab-df-spinner {\n",
              "    border: 2px solid var(--fill-color);\n",
              "    border-color: transparent;\n",
              "    border-bottom-color: var(--fill-color);\n",
              "    animation:\n",
              "      spin 1s steps(1) infinite;\n",
              "  }\n",
              "\n",
              "  @keyframes spin {\n",
              "    0% {\n",
              "      border-color: transparent;\n",
              "      border-bottom-color: var(--fill-color);\n",
              "      border-left-color: var(--fill-color);\n",
              "    }\n",
              "    20% {\n",
              "      border-color: transparent;\n",
              "      border-left-color: var(--fill-color);\n",
              "      border-top-color: var(--fill-color);\n",
              "    }\n",
              "    30% {\n",
              "      border-color: transparent;\n",
              "      border-left-color: var(--fill-color);\n",
              "      border-top-color: var(--fill-color);\n",
              "      border-right-color: var(--fill-color);\n",
              "    }\n",
              "    40% {\n",
              "      border-color: transparent;\n",
              "      border-right-color: var(--fill-color);\n",
              "      border-top-color: var(--fill-color);\n",
              "    }\n",
              "    60% {\n",
              "      border-color: transparent;\n",
              "      border-right-color: var(--fill-color);\n",
              "    }\n",
              "    80% {\n",
              "      border-color: transparent;\n",
              "      border-right-color: var(--fill-color);\n",
              "      border-bottom-color: var(--fill-color);\n",
              "    }\n",
              "    90% {\n",
              "      border-color: transparent;\n",
              "      border-bottom-color: var(--fill-color);\n",
              "    }\n",
              "  }\n",
              "</style>\n",
              "\n",
              "  <script>\n",
              "    async function quickchart(key) {\n",
              "      const quickchartButtonEl =\n",
              "        document.querySelector('#' + key + ' button');\n",
              "      quickchartButtonEl.disabled = true;  // To prevent multiple clicks.\n",
              "      quickchartButtonEl.classList.add('colab-df-spinner');\n",
              "      try {\n",
              "        const charts = await google.colab.kernel.invokeFunction(\n",
              "            'suggestCharts', [key], {});\n",
              "      } catch (error) {\n",
              "        console.error('Error during call to suggestCharts:', error);\n",
              "      }\n",
              "      quickchartButtonEl.classList.remove('colab-df-spinner');\n",
              "      quickchartButtonEl.classList.add('colab-df-quickchart-complete');\n",
              "    }\n",
              "    (() => {\n",
              "      let quickchartButtonEl =\n",
              "        document.querySelector('#df-ec8f0e74-742c-4517-94c5-5a1393e7837f button');\n",
              "      quickchartButtonEl.style.display =\n",
              "        google.colab.kernel.accessAllowed ? 'block' : 'none';\n",
              "    })();\n",
              "  </script>\n",
              "</div>\n",
              "\n",
              "  <div id=\"id_a4cfbeb3-f39b-4441-abe1-3869119c4600\">\n",
              "    <style>\n",
              "      .colab-df-generate {\n",
              "        background-color: #E8F0FE;\n",
              "        border: none;\n",
              "        border-radius: 50%;\n",
              "        cursor: pointer;\n",
              "        display: none;\n",
              "        fill: #1967D2;\n",
              "        height: 32px;\n",
              "        padding: 0 0 0 0;\n",
              "        width: 32px;\n",
              "      }\n",
              "\n",
              "      .colab-df-generate:hover {\n",
              "        background-color: #E2EBFA;\n",
              "        box-shadow: 0px 1px 2px rgba(60, 64, 67, 0.3), 0px 1px 3px 1px rgba(60, 64, 67, 0.15);\n",
              "        fill: #174EA6;\n",
              "      }\n",
              "\n",
              "      [theme=dark] .colab-df-generate {\n",
              "        background-color: #3B4455;\n",
              "        fill: #D2E3FC;\n",
              "      }\n",
              "\n",
              "      [theme=dark] .colab-df-generate:hover {\n",
              "        background-color: #434B5C;\n",
              "        box-shadow: 0px 1px 3px 1px rgba(0, 0, 0, 0.15);\n",
              "        filter: drop-shadow(0px 1px 2px rgba(0, 0, 0, 0.3));\n",
              "        fill: #FFFFFF;\n",
              "      }\n",
              "    </style>\n",
              "    <button class=\"colab-df-generate\" onclick=\"generateWithVariable('peso_max_min_por_grupo')\"\n",
              "            title=\"Generate code using this dataframe.\"\n",
              "            style=\"display:none;\">\n",
              "\n",
              "  <svg xmlns=\"http://www.w3.org/2000/svg\" height=\"24px\"viewBox=\"0 0 24 24\"\n",
              "       width=\"24px\">\n",
              "    <path d=\"M7,19H8.4L18.45,9,17,7.55,7,17.6ZM5,21V16.75L18.45,3.32a2,2,0,0,1,2.83,0l1.4,1.43a1.91,1.91,0,0,1,.58,1.4,1.91,1.91,0,0,1-.58,1.4L9.25,21ZM18.45,9,17,7.55Zm-12,3A5.31,5.31,0,0,0,4.9,8.1,5.31,5.31,0,0,0,1,6.5,5.31,5.31,0,0,0,4.9,4.9,5.31,5.31,0,0,0,6.5,1,5.31,5.31,0,0,0,8.1,4.9,5.31,5.31,0,0,0,12,6.5,5.46,5.46,0,0,0,6.5,12Z\"/>\n",
              "  </svg>\n",
              "    </button>\n",
              "    <script>\n",
              "      (() => {\n",
              "      const buttonEl =\n",
              "        document.querySelector('#id_a4cfbeb3-f39b-4441-abe1-3869119c4600 button.colab-df-generate');\n",
              "      buttonEl.style.display =\n",
              "        google.colab.kernel.accessAllowed ? 'block' : 'none';\n",
              "\n",
              "      buttonEl.onclick = () => {\n",
              "        google.colab.notebook.generateWithVariable('peso_max_min_por_grupo');\n",
              "      }\n",
              "      })();\n",
              "    </script>\n",
              "  </div>\n",
              "\n",
              "    </div>\n",
              "  </div>\n"
            ],
            "text/plain": [
              "        max   min\n",
              "group            \n",
              "ctrl   6.11  4.17\n",
              "trt1   6.03  3.59\n",
              "trt2   6.31  4.92"
            ]
          },
          "execution_count": 28,
          "metadata": {},
          "output_type": "execute_result"
        }
      ],
      "source": [
        "# Calculando o peso máximo e mínimo para cada grupo\n",
        "peso_max_min_por_grupo = df_plant.groupby('group')['weight'].agg(['max', 'min'])\n",
        "\n",
        "# Imprimindo o resultado\n",
        "peso_max_min_por_grupo\n"
      ]
    },
    {
      "cell_type": "markdown",
      "metadata": {
        "id": "mD4GNDuKJYEL"
      },
      "source": [
        "# Desafio 3: HairEyeColor\n",
        "Definição do problema: Dado que você está trabalhando com um\n",
        "grupo de pesquisadores que estão analisando a combinação da cor e\n",
        "dos olhos das pessoas.\n",
        "\n",
        "Código do dataset: HairEyeColor\n",
        "\n",
        "Dicas: atributo do DataFrame: sum, reset_index\n",
        "\n"
      ]
    },
    {
      "cell_type": "markdown",
      "metadata": {
        "id": "7NT4f0s5Jx-a"
      },
      "source": [
        "1. Calcule o número total de pessoas para cada combinação de cor de\n",
        "cabelo (Hair) e cor dos olhos (Eye).\n"
      ]
    },
    {
      "cell_type": "code",
      "execution_count": null,
      "metadata": {
        "colab": {
          "base_uri": "https://localhost:8080/"
        },
        "id": "dIi1OVB7J1Pn",
        "outputId": "202bf923-213a-4c2e-e812-8b18fdeb0df1"
      },
      "outputs": [
        {
          "name": "stdout",
          "output_type": "stream",
          "text": [
            "    Hair    Eye   Sex  Freq\n",
            "0  Black  Brown  Male    32\n",
            "1  Brown  Brown  Male    53\n",
            "2    Red  Brown  Male    10\n",
            "3  Blond  Brown  Male     3\n",
            "4  Black   Blue  Male    11\n"
          ]
        }
      ],
      "source": [
        "import numpy as np\n",
        "import pandas as pd\n",
        "import statsmodels.api as sm\n",
        "\n",
        "# Carregar o dataset HairEyeColor\n",
        "data = sm.datasets.get_rdataset(\"HairEyeColor\", \"datasets\")\n",
        "\n",
        "# Converter para DataFrame\n",
        "df = data.data\n",
        "\n",
        "# Exibir as primeiras linhas para saber quais as variáveis\n",
        "print(df.head())\n"
      ]
    },
    {
      "cell_type": "code",
      "execution_count": null,
      "metadata": {
        "colab": {
          "base_uri": "https://localhost:8080/"
        },
        "id": "QDpjtZCG68Z4",
        "outputId": "360f4e9a-b2a7-4534-ef7c-33ada5d2b6e0"
      },
      "outputs": [
        {
          "name": "stdout",
          "output_type": "stream",
          "text": [
            "     Hair    Eye  Freq\n",
            "0   Black   Blue    20\n",
            "1   Black  Brown    68\n",
            "2   Black  Green     5\n",
            "3   Black  Hazel    15\n",
            "4   Blond   Blue    94\n",
            "5   Blond  Brown     7\n",
            "6   Blond  Green    16\n",
            "7   Blond  Hazel    10\n",
            "8   Brown   Blue    84\n",
            "9   Brown  Brown   119\n",
            "10  Brown  Green    29\n",
            "11  Brown  Hazel    54\n",
            "12    Red   Blue    17\n",
            "13    Red  Brown    26\n",
            "14    Red  Green    14\n",
            "15    Red  Hazel    14\n"
          ]
        }
      ],
      "source": [
        "# Agrupar por Hair e Eye e somar a frequência\n",
        "hair_eye_count = df.groupby([\"Hair\", \"Eye\"])[\"Freq\"].sum().reset_index()\n",
        "\n",
        "# Exibir o resultado\n",
        "print(hair_eye_count)"
      ]
    },
    {
      "cell_type": "markdown",
      "metadata": {
        "id": "R1ZVU5-5J2GG"
      },
      "source": [
        "2. Encontre a cor de cabelo mais comum entre pessoas com olhos\n",
        "castanhos (Brown).\n"
      ]
    },
    {
      "cell_type": "code",
      "execution_count": null,
      "metadata": {
        "colab": {
          "base_uri": "https://localhost:8080/"
        },
        "id": "yLHbjrg9J4H3",
        "outputId": "01480bcf-a0b7-4aee-bc6f-1bfe26272064"
      },
      "outputs": [
        {
          "name": "stdout",
          "output_type": "stream",
          "text": [
            "A cor de cabelo mais comum entre pessoas com olhos castanhos é: Brown\n"
          ]
        }
      ],
      "source": [
        "# Filtrar apenas pessoas com olhos castanhos\n",
        "brown_eyes = df[df[\"Eye\"] == \"Brown\"]\n",
        "\n",
        "# Encontrar a cor de cabelo mais comum entre pessoas com olhos castanhos\n",
        "most_common_hair = brown_eyes.groupby(\"Hair\")[\"Freq\"].sum().idxmax()\n",
        "\n",
        "print(f\"A cor de cabelo mais comum entre pessoas com olhos castanhos é: {most_common_hair}\")"
      ]
    },
    {
      "cell_type": "markdown",
      "metadata": {
        "id": "bNgosJ4AJ4v_"
      },
      "source": [
        "3. Crie uma tabela com a contagem total de pessoas por cor de cabelo."
      ]
    },
    {
      "cell_type": "code",
      "execution_count": null,
      "metadata": {
        "colab": {
          "base_uri": "https://localhost:8080/"
        },
        "id": "SduuBcBJJ5vU",
        "outputId": "e3cc3266-062e-43b4-8c00-7da6aec21bd3"
      },
      "outputs": [
        {
          "name": "stdout",
          "output_type": "stream",
          "text": [
            "  Cor de Cabelo  Total de Pessoas\n",
            "0         Black               108\n",
            "1         Blond               127\n",
            "2         Brown               286\n",
            "3           Red                71\n"
          ]
        }
      ],
      "source": [
        "# Contagem total de pessoas por cor de cabelo\n",
        "hair_count = df.groupby(\"Hair\")[\"Freq\"].sum().reset_index()\n",
        "\n",
        "# Renomear colunas\n",
        "hair_count.columns = [\"Cor de Cabelo\", \"Total de Pessoas\"]\n",
        "\n",
        "# Exibir o resultado\n",
        "print(hair_count)"
      ]
    },
    {
      "cell_type": "code",
      "execution_count": null,
      "metadata": {
        "colab": {
          "base_uri": "https://localhost:8080/",
          "height": 542
        },
        "id": "G1Y4fUH67P-t",
        "outputId": "14d02388-1d0c-4927-a9b9-dd91f8b1c875"
      },
      "outputs": [
        {
          "data": {
            "text/html": [
              "<html>\n",
              "<head><meta charset=\"utf-8\" /></head>\n",
              "<body>\n",
              "    <div>            <script src=\"https://cdnjs.cloudflare.com/ajax/libs/mathjax/2.7.5/MathJax.js?config=TeX-AMS-MML_SVG\"></script><script type=\"text/javascript\">if (window.MathJax && window.MathJax.Hub && window.MathJax.Hub.Config) {window.MathJax.Hub.Config({SVG: {font: \"STIX-Web\"}});}</script>                <script type=\"text/javascript\">window.PlotlyConfig = {MathJaxConfig: 'local'};</script>\n",
              "        <script charset=\"utf-8\" src=\"https://cdn.plot.ly/plotly-2.35.2.min.js\"></script>                <div id=\"fb7e4321-646e-47a1-8c4e-166997321651\" class=\"plotly-graph-div\" style=\"height:525px; width:100%;\"></div>            <script type=\"text/javascript\">                                    window.PLOTLYENV=window.PLOTLYENV || {};                                    if (document.getElementById(\"fb7e4321-646e-47a1-8c4e-166997321651\")) {                    Plotly.newPlot(                        \"fb7e4321-646e-47a1-8c4e-166997321651\",                        [{\"alignmentgroup\":\"True\",\"hovertemplate\":\"Cor de Cabelo=%{x}\\u003cbr\\u003eTotal de Pessoas=%{text}\\u003cextra\\u003e\\u003c\\u002fextra\\u003e\",\"legendgroup\":\"Black\",\"marker\":{\"color\":\"#636efa\",\"pattern\":{\"shape\":\"\"}},\"name\":\"Black\",\"offsetgroup\":\"Black\",\"orientation\":\"v\",\"showlegend\":true,\"text\":[108.0],\"textposition\":\"auto\",\"x\":[\"Black\"],\"xaxis\":\"x\",\"y\":[108],\"yaxis\":\"y\",\"type\":\"bar\"},{\"alignmentgroup\":\"True\",\"hovertemplate\":\"Cor de Cabelo=%{x}\\u003cbr\\u003eTotal de Pessoas=%{text}\\u003cextra\\u003e\\u003c\\u002fextra\\u003e\",\"legendgroup\":\"Blond\",\"marker\":{\"color\":\"#EF553B\",\"pattern\":{\"shape\":\"\"}},\"name\":\"Blond\",\"offsetgroup\":\"Blond\",\"orientation\":\"v\",\"showlegend\":true,\"text\":[127.0],\"textposition\":\"auto\",\"x\":[\"Blond\"],\"xaxis\":\"x\",\"y\":[127],\"yaxis\":\"y\",\"type\":\"bar\"},{\"alignmentgroup\":\"True\",\"hovertemplate\":\"Cor de Cabelo=%{x}\\u003cbr\\u003eTotal de Pessoas=%{text}\\u003cextra\\u003e\\u003c\\u002fextra\\u003e\",\"legendgroup\":\"Brown\",\"marker\":{\"color\":\"#00cc96\",\"pattern\":{\"shape\":\"\"}},\"name\":\"Brown\",\"offsetgroup\":\"Brown\",\"orientation\":\"v\",\"showlegend\":true,\"text\":[286.0],\"textposition\":\"auto\",\"x\":[\"Brown\"],\"xaxis\":\"x\",\"y\":[286],\"yaxis\":\"y\",\"type\":\"bar\"},{\"alignmentgroup\":\"True\",\"hovertemplate\":\"Cor de Cabelo=%{x}\\u003cbr\\u003eTotal de Pessoas=%{text}\\u003cextra\\u003e\\u003c\\u002fextra\\u003e\",\"legendgroup\":\"Red\",\"marker\":{\"color\":\"#ab63fa\",\"pattern\":{\"shape\":\"\"}},\"name\":\"Red\",\"offsetgroup\":\"Red\",\"orientation\":\"v\",\"showlegend\":true,\"text\":[71.0],\"textposition\":\"auto\",\"x\":[\"Red\"],\"xaxis\":\"x\",\"y\":[71],\"yaxis\":\"y\",\"type\":\"bar\"}],                        {\"template\":{\"data\":{\"histogram2dcontour\":[{\"type\":\"histogram2dcontour\",\"colorbar\":{\"outlinewidth\":0,\"ticks\":\"\"},\"colorscale\":[[0.0,\"#0d0887\"],[0.1111111111111111,\"#46039f\"],[0.2222222222222222,\"#7201a8\"],[0.3333333333333333,\"#9c179e\"],[0.4444444444444444,\"#bd3786\"],[0.5555555555555556,\"#d8576b\"],[0.6666666666666666,\"#ed7953\"],[0.7777777777777778,\"#fb9f3a\"],[0.8888888888888888,\"#fdca26\"],[1.0,\"#f0f921\"]]}],\"choropleth\":[{\"type\":\"choropleth\",\"colorbar\":{\"outlinewidth\":0,\"ticks\":\"\"}}],\"histogram2d\":[{\"type\":\"histogram2d\",\"colorbar\":{\"outlinewidth\":0,\"ticks\":\"\"},\"colorscale\":[[0.0,\"#0d0887\"],[0.1111111111111111,\"#46039f\"],[0.2222222222222222,\"#7201a8\"],[0.3333333333333333,\"#9c179e\"],[0.4444444444444444,\"#bd3786\"],[0.5555555555555556,\"#d8576b\"],[0.6666666666666666,\"#ed7953\"],[0.7777777777777778,\"#fb9f3a\"],[0.8888888888888888,\"#fdca26\"],[1.0,\"#f0f921\"]]}],\"heatmap\":[{\"type\":\"heatmap\",\"colorbar\":{\"outlinewidth\":0,\"ticks\":\"\"},\"colorscale\":[[0.0,\"#0d0887\"],[0.1111111111111111,\"#46039f\"],[0.2222222222222222,\"#7201a8\"],[0.3333333333333333,\"#9c179e\"],[0.4444444444444444,\"#bd3786\"],[0.5555555555555556,\"#d8576b\"],[0.6666666666666666,\"#ed7953\"],[0.7777777777777778,\"#fb9f3a\"],[0.8888888888888888,\"#fdca26\"],[1.0,\"#f0f921\"]]}],\"heatmapgl\":[{\"type\":\"heatmapgl\",\"colorbar\":{\"outlinewidth\":0,\"ticks\":\"\"},\"colorscale\":[[0.0,\"#0d0887\"],[0.1111111111111111,\"#46039f\"],[0.2222222222222222,\"#7201a8\"],[0.3333333333333333,\"#9c179e\"],[0.4444444444444444,\"#bd3786\"],[0.5555555555555556,\"#d8576b\"],[0.6666666666666666,\"#ed7953\"],[0.7777777777777778,\"#fb9f3a\"],[0.8888888888888888,\"#fdca26\"],[1.0,\"#f0f921\"]]}],\"contourcarpet\":[{\"type\":\"contourcarpet\",\"colorbar\":{\"outlinewidth\":0,\"ticks\":\"\"}}],\"contour\":[{\"type\":\"contour\",\"colorbar\":{\"outlinewidth\":0,\"ticks\":\"\"},\"colorscale\":[[0.0,\"#0d0887\"],[0.1111111111111111,\"#46039f\"],[0.2222222222222222,\"#7201a8\"],[0.3333333333333333,\"#9c179e\"],[0.4444444444444444,\"#bd3786\"],[0.5555555555555556,\"#d8576b\"],[0.6666666666666666,\"#ed7953\"],[0.7777777777777778,\"#fb9f3a\"],[0.8888888888888888,\"#fdca26\"],[1.0,\"#f0f921\"]]}],\"surface\":[{\"type\":\"surface\",\"colorbar\":{\"outlinewidth\":0,\"ticks\":\"\"},\"colorscale\":[[0.0,\"#0d0887\"],[0.1111111111111111,\"#46039f\"],[0.2222222222222222,\"#7201a8\"],[0.3333333333333333,\"#9c179e\"],[0.4444444444444444,\"#bd3786\"],[0.5555555555555556,\"#d8576b\"],[0.6666666666666666,\"#ed7953\"],[0.7777777777777778,\"#fb9f3a\"],[0.8888888888888888,\"#fdca26\"],[1.0,\"#f0f921\"]]}],\"mesh3d\":[{\"type\":\"mesh3d\",\"colorbar\":{\"outlinewidth\":0,\"ticks\":\"\"}}],\"scatter\":[{\"fillpattern\":{\"fillmode\":\"overlay\",\"size\":10,\"solidity\":0.2},\"type\":\"scatter\"}],\"parcoords\":[{\"type\":\"parcoords\",\"line\":{\"colorbar\":{\"outlinewidth\":0,\"ticks\":\"\"}}}],\"scatterpolargl\":[{\"type\":\"scatterpolargl\",\"marker\":{\"colorbar\":{\"outlinewidth\":0,\"ticks\":\"\"}}}],\"bar\":[{\"error_x\":{\"color\":\"#2a3f5f\"},\"error_y\":{\"color\":\"#2a3f5f\"},\"marker\":{\"line\":{\"color\":\"#E5ECF6\",\"width\":0.5},\"pattern\":{\"fillmode\":\"overlay\",\"size\":10,\"solidity\":0.2}},\"type\":\"bar\"}],\"scattergeo\":[{\"type\":\"scattergeo\",\"marker\":{\"colorbar\":{\"outlinewidth\":0,\"ticks\":\"\"}}}],\"scatterpolar\":[{\"type\":\"scatterpolar\",\"marker\":{\"colorbar\":{\"outlinewidth\":0,\"ticks\":\"\"}}}],\"histogram\":[{\"marker\":{\"pattern\":{\"fillmode\":\"overlay\",\"size\":10,\"solidity\":0.2}},\"type\":\"histogram\"}],\"scattergl\":[{\"type\":\"scattergl\",\"marker\":{\"colorbar\":{\"outlinewidth\":0,\"ticks\":\"\"}}}],\"scatter3d\":[{\"type\":\"scatter3d\",\"line\":{\"colorbar\":{\"outlinewidth\":0,\"ticks\":\"\"}},\"marker\":{\"colorbar\":{\"outlinewidth\":0,\"ticks\":\"\"}}}],\"scattermapbox\":[{\"type\":\"scattermapbox\",\"marker\":{\"colorbar\":{\"outlinewidth\":0,\"ticks\":\"\"}}}],\"scatterternary\":[{\"type\":\"scatterternary\",\"marker\":{\"colorbar\":{\"outlinewidth\":0,\"ticks\":\"\"}}}],\"scattercarpet\":[{\"type\":\"scattercarpet\",\"marker\":{\"colorbar\":{\"outlinewidth\":0,\"ticks\":\"\"}}}],\"carpet\":[{\"aaxis\":{\"endlinecolor\":\"#2a3f5f\",\"gridcolor\":\"white\",\"linecolor\":\"white\",\"minorgridcolor\":\"white\",\"startlinecolor\":\"#2a3f5f\"},\"baxis\":{\"endlinecolor\":\"#2a3f5f\",\"gridcolor\":\"white\",\"linecolor\":\"white\",\"minorgridcolor\":\"white\",\"startlinecolor\":\"#2a3f5f\"},\"type\":\"carpet\"}],\"table\":[{\"cells\":{\"fill\":{\"color\":\"#EBF0F8\"},\"line\":{\"color\":\"white\"}},\"header\":{\"fill\":{\"color\":\"#C8D4E3\"},\"line\":{\"color\":\"white\"}},\"type\":\"table\"}],\"barpolar\":[{\"marker\":{\"line\":{\"color\":\"#E5ECF6\",\"width\":0.5},\"pattern\":{\"fillmode\":\"overlay\",\"size\":10,\"solidity\":0.2}},\"type\":\"barpolar\"}],\"pie\":[{\"automargin\":true,\"type\":\"pie\"}]},\"layout\":{\"autotypenumbers\":\"strict\",\"colorway\":[\"#636efa\",\"#EF553B\",\"#00cc96\",\"#ab63fa\",\"#FFA15A\",\"#19d3f3\",\"#FF6692\",\"#B6E880\",\"#FF97FF\",\"#FECB52\"],\"font\":{\"color\":\"#2a3f5f\"},\"hovermode\":\"closest\",\"hoverlabel\":{\"align\":\"left\"},\"paper_bgcolor\":\"white\",\"plot_bgcolor\":\"#E5ECF6\",\"polar\":{\"bgcolor\":\"#E5ECF6\",\"angularaxis\":{\"gridcolor\":\"white\",\"linecolor\":\"white\",\"ticks\":\"\"},\"radialaxis\":{\"gridcolor\":\"white\",\"linecolor\":\"white\",\"ticks\":\"\"}},\"ternary\":{\"bgcolor\":\"#E5ECF6\",\"aaxis\":{\"gridcolor\":\"white\",\"linecolor\":\"white\",\"ticks\":\"\"},\"baxis\":{\"gridcolor\":\"white\",\"linecolor\":\"white\",\"ticks\":\"\"},\"caxis\":{\"gridcolor\":\"white\",\"linecolor\":\"white\",\"ticks\":\"\"}},\"coloraxis\":{\"colorbar\":{\"outlinewidth\":0,\"ticks\":\"\"}},\"colorscale\":{\"sequential\":[[0.0,\"#0d0887\"],[0.1111111111111111,\"#46039f\"],[0.2222222222222222,\"#7201a8\"],[0.3333333333333333,\"#9c179e\"],[0.4444444444444444,\"#bd3786\"],[0.5555555555555556,\"#d8576b\"],[0.6666666666666666,\"#ed7953\"],[0.7777777777777778,\"#fb9f3a\"],[0.8888888888888888,\"#fdca26\"],[1.0,\"#f0f921\"]],\"sequentialminus\":[[0.0,\"#0d0887\"],[0.1111111111111111,\"#46039f\"],[0.2222222222222222,\"#7201a8\"],[0.3333333333333333,\"#9c179e\"],[0.4444444444444444,\"#bd3786\"],[0.5555555555555556,\"#d8576b\"],[0.6666666666666666,\"#ed7953\"],[0.7777777777777778,\"#fb9f3a\"],[0.8888888888888888,\"#fdca26\"],[1.0,\"#f0f921\"]],\"diverging\":[[0,\"#8e0152\"],[0.1,\"#c51b7d\"],[0.2,\"#de77ae\"],[0.3,\"#f1b6da\"],[0.4,\"#fde0ef\"],[0.5,\"#f7f7f7\"],[0.6,\"#e6f5d0\"],[0.7,\"#b8e186\"],[0.8,\"#7fbc41\"],[0.9,\"#4d9221\"],[1,\"#276419\"]]},\"xaxis\":{\"gridcolor\":\"white\",\"linecolor\":\"white\",\"ticks\":\"\",\"title\":{\"standoff\":15},\"zerolinecolor\":\"white\",\"automargin\":true,\"zerolinewidth\":2},\"yaxis\":{\"gridcolor\":\"white\",\"linecolor\":\"white\",\"ticks\":\"\",\"title\":{\"standoff\":15},\"zerolinecolor\":\"white\",\"automargin\":true,\"zerolinewidth\":2},\"scene\":{\"xaxis\":{\"backgroundcolor\":\"#E5ECF6\",\"gridcolor\":\"white\",\"linecolor\":\"white\",\"showbackground\":true,\"ticks\":\"\",\"zerolinecolor\":\"white\",\"gridwidth\":2},\"yaxis\":{\"backgroundcolor\":\"#E5ECF6\",\"gridcolor\":\"white\",\"linecolor\":\"white\",\"showbackground\":true,\"ticks\":\"\",\"zerolinecolor\":\"white\",\"gridwidth\":2},\"zaxis\":{\"backgroundcolor\":\"#E5ECF6\",\"gridcolor\":\"white\",\"linecolor\":\"white\",\"showbackground\":true,\"ticks\":\"\",\"zerolinecolor\":\"white\",\"gridwidth\":2}},\"shapedefaults\":{\"line\":{\"color\":\"#2a3f5f\"}},\"annotationdefaults\":{\"arrowcolor\":\"#2a3f5f\",\"arrowhead\":0,\"arrowwidth\":1},\"geo\":{\"bgcolor\":\"white\",\"landcolor\":\"#E5ECF6\",\"subunitcolor\":\"white\",\"showland\":true,\"showlakes\":true,\"lakecolor\":\"white\"},\"title\":{\"x\":0.05},\"mapbox\":{\"style\":\"light\"}}},\"xaxis\":{\"anchor\":\"y\",\"domain\":[0.0,1.0],\"title\":{\"text\":\"Cor de Cabelo\"},\"categoryorder\":\"array\",\"categoryarray\":[\"Black\",\"Blond\",\"Brown\",\"Red\"]},\"yaxis\":{\"anchor\":\"x\",\"domain\":[0.0,1.0],\"title\":{\"text\":\"Total de Pessoas\"}},\"legend\":{\"title\":{\"text\":\"Cor de Cabelo\"},\"tracegroupgap\":0},\"title\":{\"text\":\"Total de Pessoas por Cor de Cabelo\"},\"barmode\":\"relative\"},                        {\"responsive\": true}                    ).then(function(){\n",
              "                            \n",
              "var gd = document.getElementById('fb7e4321-646e-47a1-8c4e-166997321651');\n",
              "var x = new MutationObserver(function (mutations, observer) {{\n",
              "        var display = window.getComputedStyle(gd).display;\n",
              "        if (!display || display === 'none') {{\n",
              "            console.log([gd, 'removed!']);\n",
              "            Plotly.purge(gd);\n",
              "            observer.disconnect();\n",
              "        }}\n",
              "}});\n",
              "\n",
              "// Listen for the removal of the full notebook cells\n",
              "var notebookContainer = gd.closest('#notebook-container');\n",
              "if (notebookContainer) {{\n",
              "    x.observe(notebookContainer, {childList: true});\n",
              "}}\n",
              "\n",
              "// Listen for the clearing of the current output cell\n",
              "var outputEl = gd.closest('.output');\n",
              "if (outputEl) {{\n",
              "    x.observe(outputEl, {childList: true});\n",
              "}}\n",
              "\n",
              "                        })                };                            </script>        </div>\n",
              "</body>\n",
              "</html>"
            ]
          },
          "metadata": {},
          "output_type": "display_data"
        }
      ],
      "source": [
        "import plotly.express as px\n",
        "# Criar um gráfico de barras com Plotly\n",
        "fig = px.bar(\n",
        "     hair_count,\n",
        "    x=\"Cor de Cabelo\",\n",
        "    y=\"Total de Pessoas\",\n",
        "    text=\"Total de Pessoas\",\n",
        "    title=\"Total de Pessoas por Cor de Cabelo\",\n",
        "    labels={\"Cor de Cabelo\": \"Cor de Cabelo\", \"Total de Pessoas\": \"Total de Pessoas\"},\n",
        "    color=\"Cor de Cabelo\",  # Colorir cada barra por cor de cabelo\n",
        ")\n",
        "\n",
        "# Exibir o gráfico\n",
        "fig.show()"
      ]
    },
    {
      "cell_type": "markdown",
      "metadata": {
        "id": "jkJteF8oKLGV"
      },
      "source": [
        "# Desafio 4: InsectSprays\n",
        "Definição do problema: Dado que você está trabalhando num\n",
        "laboratório de inseticidas. Você precisa fazer uma pesquisa em todos\n",
        "os sprays e verificar qual jogo é o mais eficaz.\n",
        "\n",
        "Código do dataset: InsectSpray\n",
        "\n",
        "Dicas:\n",
        "Use o método.idmax()"
      ]
    },
    {
      "cell_type": "markdown",
      "metadata": {
        "id": "Ix1B9dRkKV3J"
      },
      "source": [
        "1. Calcule o número total de insetos mortos (count) por tipo de spray\n",
        "(spray).\n"
      ]
    },
    {
      "cell_type": "code",
      "execution_count": null,
      "metadata": {
        "colab": {
          "base_uri": "https://localhost:8080/"
        },
        "collapsed": true,
        "id": "xW6irjKSwPOq",
        "outputId": "7df6d780-e78a-41e4-d578-ba6adc016df9"
      },
      "outputs": [
        {
          "name": "stdout",
          "output_type": "stream",
          "text": [
            "Requirement already satisfied: pydataset in /usr/local/lib/python3.11/dist-packages (0.2.0)\n",
            "Requirement already satisfied: pandas in /usr/local/lib/python3.11/dist-packages (from pydataset) (2.2.2)\n",
            "Requirement already satisfied: numpy>=1.23.2 in /usr/local/lib/python3.11/dist-packages (from pandas->pydataset) (1.26.4)\n",
            "Requirement already satisfied: python-dateutil>=2.8.2 in /usr/local/lib/python3.11/dist-packages (from pandas->pydataset) (2.8.2)\n",
            "Requirement already satisfied: pytz>=2020.1 in /usr/local/lib/python3.11/dist-packages (from pandas->pydataset) (2025.1)\n",
            "Requirement already satisfied: tzdata>=2022.7 in /usr/local/lib/python3.11/dist-packages (from pandas->pydataset) (2025.1)\n",
            "Requirement already satisfied: six>=1.5 in /usr/local/lib/python3.11/dist-packages (from python-dateutil>=2.8.2->pandas->pydataset) (1.17.0)\n"
          ]
        }
      ],
      "source": [
        "# Install the pydataset package\n",
        "!pip install pydataset\n",
        "\n",
        "# Import the data function from the pydataset package\n",
        "from pydataset import data"
      ]
    },
    {
      "cell_type": "code",
      "execution_count": null,
      "metadata": {
        "colab": {
          "base_uri": "https://localhost:8080/"
        },
        "id": "Z1gVYbiAKgY3",
        "outputId": "d02d0523-ff00-4380-b151-a2458ea367da"
      },
      "outputs": [
        {
          "name": "stdout",
          "output_type": "stream",
          "text": [
            "spray\n",
            "A    174\n",
            "B    184\n",
            "C     25\n",
            "D     59\n",
            "E     42\n",
            "F    200\n",
            "Name: count, dtype: int64\n"
          ]
        }
      ],
      "source": [
        "# Carregando o dataset 'InsectSprays'\n",
        "df_insect = data(\"InsectSprays\") # Corrected dataset name to \"InsectSprays\"\n",
        "\n",
        "# Check if the dataset was loaded correctly\n",
        "if df_insect is not None:\n",
        "    # Calculando o número total de insetos mortos por tipo de spray\n",
        "    total_insetos_mortos = df_insect.groupby('spray')['count'].sum()\n",
        "\n",
        "    # Imprimindo o resultado\n",
        "    print(total_insetos_mortos)\n",
        "\n"
      ]
    },
    {
      "cell_type": "markdown",
      "metadata": {
        "id": "Z19LWccsKhKT"
      },
      "source": [
        "2. Identifique qual spray foi o mais eficaz em matar insetos.\n"
      ]
    },
    {
      "cell_type": "code",
      "execution_count": null,
      "metadata": {
        "colab": {
          "base_uri": "https://localhost:8080/"
        },
        "id": "YazHfbsVvoBo",
        "outputId": "c99fc06b-7b30-4306-bdaa-c86ed5d8e125"
      },
      "outputs": [
        {
          "name": "stdout",
          "output_type": "stream",
          "text": [
            "O spray mais eficaz foi: F\n"
          ]
        }
      ],
      "source": [
        "# Identificando o spray mais eficaz\n",
        "spray_mais_eficaz = total_insetos_mortos.idxmax()\n",
        "\n",
        "# Imprimindo o resultado\n",
        "print(f\"O spray mais eficaz foi: {spray_mais_eficaz}\")\n"
      ]
    },
    {
      "cell_type": "markdown",
      "metadata": {
        "id": "VKQxvZMrKlo-"
      },
      "source": [
        "3. Calcule a média geral e filtre os dados para mostrar apenas sprays\n",
        "com eficácia acima da média."
      ]
    },
    {
      "cell_type": "code",
      "execution_count": null,
      "metadata": {
        "colab": {
          "base_uri": "https://localhost:8080/"
        },
        "id": "ubvsEuDCKo_e",
        "outputId": "9fff4dfa-305b-4da2-f7a7-854ea1ee393d"
      },
      "outputs": [
        {
          "name": "stdout",
          "output_type": "stream",
          "text": [
            "\n",
            "Sprays com eficácia acima da média (114.00): \n",
            "spray\n",
            "A    174\n",
            "B    184\n",
            "F    200\n",
            "Name: count, dtype: int64\n"
          ]
        }
      ],
      "source": [
        "if df_insect is not None:\n",
        "    # Calculando o número total de insetos mortos por tipo de spray\n",
        "    total_insetos_mortos = df_insect.groupby('spray')['count'].sum()\n",
        "\n",
        "    # Calculando a média geral de insetos mortos\n",
        "    media_geral = total_insetos_mortos.mean()\n",
        "\n",
        "    # Filtrando os sprays com eficácia acima da média\n",
        "    sprays_acima_da_media = total_insetos_mortos[total_insetos_mortos > media_geral]\n",
        "\n",
        "    # Imprimindo os sprays acima da média\n",
        "    print(f\"\\nSprays com eficácia acima da média ({media_geral:.2f}): \\n{sprays_acima_da_media}\")\n",
        "else:\n",
        "    print(\"Error: Could not load the 'InsectSprays' dataset.\")\n"
      ]
    },
    {
      "cell_type": "markdown",
      "metadata": {
        "id": "iv6gF_yDKp56"
      },
      "source": [
        "# Desafio 5: Chicktws\n",
        "Definição do problema: Foi conduzido um experimento para medir\n",
        "e comparar a eficácia de vários suplementos alimentares na taxa\n",
        "de crescimento de galinhas.\n",
        "Os pintinhos recém-nascidos foram alocados aleatoriamente em\n",
        "seis grupos, e cada grupo recebeu um suplemento alimentar\n",
        "diferente. Seus pesos em gramas após seis semanas são fornecidos\n",
        "junto com os tipos de ração.\n",
        "\n",
        "Código do dataset: Chicktws\n",
        "\n",
        "Dicas:\n",
        "Método .reset_index(),\n",
        "Método idxmax(),\n",
        "Método .groupby()\n",
        "\n"
      ]
    },
    {
      "cell_type": "markdown",
      "metadata": {
        "id": "PClq1p5JK_QF"
      },
      "source": [
        "1. Calcule o peso médio dos pintinhos (weight) para cada tipo de\n",
        "ração (feed).\n"
      ]
    },
    {
      "cell_type": "code",
      "execution_count": null,
      "metadata": {
        "colab": {
          "base_uri": "https://localhost:8080/"
        },
        "collapsed": true,
        "id": "gV_RhnteLD89",
        "outputId": "b1a04924-7f81-4268-ee77-ac85ea3caf3b"
      },
      "outputs": [
        {
          "name": "stdout",
          "output_type": "stream",
          "text": [
            "Collecting pydataset\n",
            "  Downloading pydataset-0.2.0.tar.gz (15.9 MB)\n",
            "\u001b[2K     \u001b[90m━━━━━━━━━━━━━━━━━━━━━━━━━━━━━━━━━━━━━━━━\u001b[0m \u001b[32m15.9/15.9 MB\u001b[0m \u001b[31m14.7 MB/s\u001b[0m eta \u001b[36m0:00:00\u001b[0m\n",
            "\u001b[?25h  Preparing metadata (setup.py) ... \u001b[?25l\u001b[?25hdone\n",
            "Requirement already satisfied: pandas in /usr/local/lib/python3.11/dist-packages (from pydataset) (2.2.2)\n",
            "Requirement already satisfied: numpy>=1.23.2 in /usr/local/lib/python3.11/dist-packages (from pandas->pydataset) (1.26.4)\n",
            "Requirement already satisfied: python-dateutil>=2.8.2 in /usr/local/lib/python3.11/dist-packages (from pandas->pydataset) (2.8.2)\n",
            "Requirement already satisfied: pytz>=2020.1 in /usr/local/lib/python3.11/dist-packages (from pandas->pydataset) (2025.1)\n",
            "Requirement already satisfied: tzdata>=2022.7 in /usr/local/lib/python3.11/dist-packages (from pandas->pydataset) (2025.1)\n",
            "Requirement already satisfied: six>=1.5 in /usr/local/lib/python3.11/dist-packages (from python-dateutil>=2.8.2->pandas->pydataset) (1.17.0)\n",
            "Building wheels for collected packages: pydataset\n",
            "  Building wheel for pydataset (setup.py) ... \u001b[?25l\u001b[?25hdone\n",
            "  Created wheel for pydataset: filename=pydataset-0.2.0-py3-none-any.whl size=15939417 sha256=21431223a431497acfa937b73e870e82389f077fbb35bceeef2c95cbd04da086\n",
            "  Stored in directory: /root/.cache/pip/wheels/29/93/3f/af54c413cecaac292940342c61882d2a8848674175d0bb0889\n",
            "Successfully built pydataset\n",
            "Installing collected packages: pydataset\n",
            "Successfully installed pydataset-0.2.0\n"
          ]
        }
      ],
      "source": [
        "#Instalando o pacote Pydataset\n",
        "!pip install pydataset"
      ]
    },
    {
      "cell_type": "code",
      "execution_count": null,
      "metadata": {
        "colab": {
          "base_uri": "https://localhost:8080/"
        },
        "id": "kuyZPlG42YZU",
        "outputId": "26443692-e909-4db9-e114-ca0a6ac80111"
      },
      "outputs": [
        {
          "name": "stdout",
          "output_type": "stream",
          "text": [
            "initiated datasets repo at: /root/.pydataset/\n"
          ]
        }
      ],
      "source": [
        "#Importando as bibliotecas necessárias\n",
        "import pydataset as dt\n",
        "import pandas as pd"
      ]
    },
    {
      "cell_type": "code",
      "execution_count": null,
      "metadata": {
        "colab": {
          "base_uri": "https://localhost:8080/",
          "height": 206
        },
        "id": "_dkzYwH52t1f",
        "outputId": "a01b56c6-617b-4e7e-8b3d-dcad2bb280a0"
      },
      "outputs": [
        {
          "data": {
            "application/vnd.google.colaboratory.intrinsic+json": {
              "summary": "{\n  \"name\": \"pintinhos\",\n  \"rows\": 71,\n  \"fields\": [\n    {\n      \"column\": \"weight\",\n      \"properties\": {\n        \"dtype\": \"number\",\n        \"std\": 78,\n        \"min\": 108,\n        \"max\": 423,\n        \"num_unique_values\": 66,\n        \"samples\": [\n          344,\n          216,\n          179\n        ],\n        \"semantic_type\": \"\",\n        \"description\": \"\"\n      }\n    },\n    {\n      \"column\": \"feed\",\n      \"properties\": {\n        \"dtype\": \"category\",\n        \"num_unique_values\": 6,\n        \"samples\": [\n          \"horsebean\",\n          \"linseed\",\n          \"casein\"\n        ],\n        \"semantic_type\": \"\",\n        \"description\": \"\"\n      }\n    }\n  ]\n}",
              "type": "dataframe",
              "variable_name": "pintinhos"
            },
            "text/html": [
              "\n",
              "  <div id=\"df-3c1c4121-9d7d-4cca-95cd-5b4da7b21807\" class=\"colab-df-container\">\n",
              "    <div>\n",
              "<style scoped>\n",
              "    .dataframe tbody tr th:only-of-type {\n",
              "        vertical-align: middle;\n",
              "    }\n",
              "\n",
              "    .dataframe tbody tr th {\n",
              "        vertical-align: top;\n",
              "    }\n",
              "\n",
              "    .dataframe thead th {\n",
              "        text-align: right;\n",
              "    }\n",
              "</style>\n",
              "<table border=\"1\" class=\"dataframe\">\n",
              "  <thead>\n",
              "    <tr style=\"text-align: right;\">\n",
              "      <th></th>\n",
              "      <th>weight</th>\n",
              "      <th>feed</th>\n",
              "    </tr>\n",
              "  </thead>\n",
              "  <tbody>\n",
              "    <tr>\n",
              "      <th>1</th>\n",
              "      <td>179</td>\n",
              "      <td>horsebean</td>\n",
              "    </tr>\n",
              "    <tr>\n",
              "      <th>2</th>\n",
              "      <td>160</td>\n",
              "      <td>horsebean</td>\n",
              "    </tr>\n",
              "    <tr>\n",
              "      <th>3</th>\n",
              "      <td>136</td>\n",
              "      <td>horsebean</td>\n",
              "    </tr>\n",
              "    <tr>\n",
              "      <th>4</th>\n",
              "      <td>227</td>\n",
              "      <td>horsebean</td>\n",
              "    </tr>\n",
              "    <tr>\n",
              "      <th>5</th>\n",
              "      <td>217</td>\n",
              "      <td>horsebean</td>\n",
              "    </tr>\n",
              "  </tbody>\n",
              "</table>\n",
              "</div>\n",
              "    <div class=\"colab-df-buttons\">\n",
              "\n",
              "  <div class=\"colab-df-container\">\n",
              "    <button class=\"colab-df-convert\" onclick=\"convertToInteractive('df-3c1c4121-9d7d-4cca-95cd-5b4da7b21807')\"\n",
              "            title=\"Convert this dataframe to an interactive table.\"\n",
              "            style=\"display:none;\">\n",
              "\n",
              "  <svg xmlns=\"http://www.w3.org/2000/svg\" height=\"24px\" viewBox=\"0 -960 960 960\">\n",
              "    <path d=\"M120-120v-720h720v720H120Zm60-500h600v-160H180v160Zm220 220h160v-160H400v160Zm0 220h160v-160H400v160ZM180-400h160v-160H180v160Zm440 0h160v-160H620v160ZM180-180h160v-160H180v160Zm440 0h160v-160H620v160Z\"/>\n",
              "  </svg>\n",
              "    </button>\n",
              "\n",
              "  <style>\n",
              "    .colab-df-container {\n",
              "      display:flex;\n",
              "      gap: 12px;\n",
              "    }\n",
              "\n",
              "    .colab-df-convert {\n",
              "      background-color: #E8F0FE;\n",
              "      border: none;\n",
              "      border-radius: 50%;\n",
              "      cursor: pointer;\n",
              "      display: none;\n",
              "      fill: #1967D2;\n",
              "      height: 32px;\n",
              "      padding: 0 0 0 0;\n",
              "      width: 32px;\n",
              "    }\n",
              "\n",
              "    .colab-df-convert:hover {\n",
              "      background-color: #E2EBFA;\n",
              "      box-shadow: 0px 1px 2px rgba(60, 64, 67, 0.3), 0px 1px 3px 1px rgba(60, 64, 67, 0.15);\n",
              "      fill: #174EA6;\n",
              "    }\n",
              "\n",
              "    .colab-df-buttons div {\n",
              "      margin-bottom: 4px;\n",
              "    }\n",
              "\n",
              "    [theme=dark] .colab-df-convert {\n",
              "      background-color: #3B4455;\n",
              "      fill: #D2E3FC;\n",
              "    }\n",
              "\n",
              "    [theme=dark] .colab-df-convert:hover {\n",
              "      background-color: #434B5C;\n",
              "      box-shadow: 0px 1px 3px 1px rgba(0, 0, 0, 0.15);\n",
              "      filter: drop-shadow(0px 1px 2px rgba(0, 0, 0, 0.3));\n",
              "      fill: #FFFFFF;\n",
              "    }\n",
              "  </style>\n",
              "\n",
              "    <script>\n",
              "      const buttonEl =\n",
              "        document.querySelector('#df-3c1c4121-9d7d-4cca-95cd-5b4da7b21807 button.colab-df-convert');\n",
              "      buttonEl.style.display =\n",
              "        google.colab.kernel.accessAllowed ? 'block' : 'none';\n",
              "\n",
              "      async function convertToInteractive(key) {\n",
              "        const element = document.querySelector('#df-3c1c4121-9d7d-4cca-95cd-5b4da7b21807');\n",
              "        const dataTable =\n",
              "          await google.colab.kernel.invokeFunction('convertToInteractive',\n",
              "                                                    [key], {});\n",
              "        if (!dataTable) return;\n",
              "\n",
              "        const docLinkHtml = 'Like what you see? Visit the ' +\n",
              "          '<a target=\"_blank\" href=https://colab.research.google.com/notebooks/data_table.ipynb>data table notebook</a>'\n",
              "          + ' to learn more about interactive tables.';\n",
              "        element.innerHTML = '';\n",
              "        dataTable['output_type'] = 'display_data';\n",
              "        await google.colab.output.renderOutput(dataTable, element);\n",
              "        const docLink = document.createElement('div');\n",
              "        docLink.innerHTML = docLinkHtml;\n",
              "        element.appendChild(docLink);\n",
              "      }\n",
              "    </script>\n",
              "  </div>\n",
              "\n",
              "\n",
              "<div id=\"df-0a55e6b0-8ec0-404a-9961-f3be6b3a96c8\">\n",
              "  <button class=\"colab-df-quickchart\" onclick=\"quickchart('df-0a55e6b0-8ec0-404a-9961-f3be6b3a96c8')\"\n",
              "            title=\"Suggest charts\"\n",
              "            style=\"display:none;\">\n",
              "\n",
              "<svg xmlns=\"http://www.w3.org/2000/svg\" height=\"24px\"viewBox=\"0 0 24 24\"\n",
              "     width=\"24px\">\n",
              "    <g>\n",
              "        <path d=\"M19 3H5c-1.1 0-2 .9-2 2v14c0 1.1.9 2 2 2h14c1.1 0 2-.9 2-2V5c0-1.1-.9-2-2-2zM9 17H7v-7h2v7zm4 0h-2V7h2v10zm4 0h-2v-4h2v4z\"/>\n",
              "    </g>\n",
              "</svg>\n",
              "  </button>\n",
              "\n",
              "<style>\n",
              "  .colab-df-quickchart {\n",
              "      --bg-color: #E8F0FE;\n",
              "      --fill-color: #1967D2;\n",
              "      --hover-bg-color: #E2EBFA;\n",
              "      --hover-fill-color: #174EA6;\n",
              "      --disabled-fill-color: #AAA;\n",
              "      --disabled-bg-color: #DDD;\n",
              "  }\n",
              "\n",
              "  [theme=dark] .colab-df-quickchart {\n",
              "      --bg-color: #3B4455;\n",
              "      --fill-color: #D2E3FC;\n",
              "      --hover-bg-color: #434B5C;\n",
              "      --hover-fill-color: #FFFFFF;\n",
              "      --disabled-bg-color: #3B4455;\n",
              "      --disabled-fill-color: #666;\n",
              "  }\n",
              "\n",
              "  .colab-df-quickchart {\n",
              "    background-color: var(--bg-color);\n",
              "    border: none;\n",
              "    border-radius: 50%;\n",
              "    cursor: pointer;\n",
              "    display: none;\n",
              "    fill: var(--fill-color);\n",
              "    height: 32px;\n",
              "    padding: 0;\n",
              "    width: 32px;\n",
              "  }\n",
              "\n",
              "  .colab-df-quickchart:hover {\n",
              "    background-color: var(--hover-bg-color);\n",
              "    box-shadow: 0 1px 2px rgba(60, 64, 67, 0.3), 0 1px 3px 1px rgba(60, 64, 67, 0.15);\n",
              "    fill: var(--button-hover-fill-color);\n",
              "  }\n",
              "\n",
              "  .colab-df-quickchart-complete:disabled,\n",
              "  .colab-df-quickchart-complete:disabled:hover {\n",
              "    background-color: var(--disabled-bg-color);\n",
              "    fill: var(--disabled-fill-color);\n",
              "    box-shadow: none;\n",
              "  }\n",
              "\n",
              "  .colab-df-spinner {\n",
              "    border: 2px solid var(--fill-color);\n",
              "    border-color: transparent;\n",
              "    border-bottom-color: var(--fill-color);\n",
              "    animation:\n",
              "      spin 1s steps(1) infinite;\n",
              "  }\n",
              "\n",
              "  @keyframes spin {\n",
              "    0% {\n",
              "      border-color: transparent;\n",
              "      border-bottom-color: var(--fill-color);\n",
              "      border-left-color: var(--fill-color);\n",
              "    }\n",
              "    20% {\n",
              "      border-color: transparent;\n",
              "      border-left-color: var(--fill-color);\n",
              "      border-top-color: var(--fill-color);\n",
              "    }\n",
              "    30% {\n",
              "      border-color: transparent;\n",
              "      border-left-color: var(--fill-color);\n",
              "      border-top-color: var(--fill-color);\n",
              "      border-right-color: var(--fill-color);\n",
              "    }\n",
              "    40% {\n",
              "      border-color: transparent;\n",
              "      border-right-color: var(--fill-color);\n",
              "      border-top-color: var(--fill-color);\n",
              "    }\n",
              "    60% {\n",
              "      border-color: transparent;\n",
              "      border-right-color: var(--fill-color);\n",
              "    }\n",
              "    80% {\n",
              "      border-color: transparent;\n",
              "      border-right-color: var(--fill-color);\n",
              "      border-bottom-color: var(--fill-color);\n",
              "    }\n",
              "    90% {\n",
              "      border-color: transparent;\n",
              "      border-bottom-color: var(--fill-color);\n",
              "    }\n",
              "  }\n",
              "</style>\n",
              "\n",
              "  <script>\n",
              "    async function quickchart(key) {\n",
              "      const quickchartButtonEl =\n",
              "        document.querySelector('#' + key + ' button');\n",
              "      quickchartButtonEl.disabled = true;  // To prevent multiple clicks.\n",
              "      quickchartButtonEl.classList.add('colab-df-spinner');\n",
              "      try {\n",
              "        const charts = await google.colab.kernel.invokeFunction(\n",
              "            'suggestCharts', [key], {});\n",
              "      } catch (error) {\n",
              "        console.error('Error during call to suggestCharts:', error);\n",
              "      }\n",
              "      quickchartButtonEl.classList.remove('colab-df-spinner');\n",
              "      quickchartButtonEl.classList.add('colab-df-quickchart-complete');\n",
              "    }\n",
              "    (() => {\n",
              "      let quickchartButtonEl =\n",
              "        document.querySelector('#df-0a55e6b0-8ec0-404a-9961-f3be6b3a96c8 button');\n",
              "      quickchartButtonEl.style.display =\n",
              "        google.colab.kernel.accessAllowed ? 'block' : 'none';\n",
              "    })();\n",
              "  </script>\n",
              "</div>\n",
              "\n",
              "    </div>\n",
              "  </div>\n"
            ],
            "text/plain": [
              "   weight       feed\n",
              "1     179  horsebean\n",
              "2     160  horsebean\n",
              "3     136  horsebean\n",
              "4     227  horsebean\n",
              "5     217  horsebean"
            ]
          },
          "execution_count": 4,
          "metadata": {},
          "output_type": "execute_result"
        }
      ],
      "source": [
        "#Carregando o dataset referente ao Desafio 3\n",
        "pintinhos = dt.data('chickwts')\n",
        "pintinhos.head()"
      ]
    },
    {
      "cell_type": "code",
      "execution_count": null,
      "metadata": {
        "colab": {
          "base_uri": "https://localhost:8080/"
        },
        "id": "YzleGKxl3OS8",
        "outputId": "84ee3761-31cf-488c-93e1-e27b7eae9c08"
      },
      "outputs": [
        {
          "name": "stdout",
          "output_type": "stream",
          "text": [
            "        feed      weight\n",
            "0     casein  323.583333\n",
            "1  horsebean  160.200000\n",
            "2    linseed  218.750000\n",
            "3   meatmeal  276.909091\n",
            "4    soybean  246.428571\n",
            "5  sunflower  328.916667\n"
          ]
        }
      ],
      "source": [
        "#o código agrupa os dados pelo tipo de ração (feed) usando .groupby(\"feed\")\n",
        "#o código calcula a média do peso (weight) para cada grupo com .mean()\n",
        "\n",
        "media_peso_por_racao = pintinhos.groupby(\"feed\")[\"weight\"].mean().reset_index()\n",
        "print(media_peso_por_racao)\n"
      ]
    },
    {
      "cell_type": "markdown",
      "metadata": {
        "id": "xzzbzXx9LEl0"
      },
      "source": [
        "2. Identifique a ração que resultou no maior peso médio.\n"
      ]
    },
    {
      "cell_type": "code",
      "execution_count": null,
      "metadata": {
        "colab": {
          "base_uri": "https://localhost:8080/"
        },
        "id": "Xd5kk92kLHST",
        "outputId": "f0e5f950-35b3-40cc-b353-2d7b89f5d712"
      },
      "outputs": [
        {
          "name": "stdout",
          "output_type": "stream",
          "text": [
            "feed       sunflower\n",
            "weight    328.916667\n",
            "Name: 5, dtype: object\n",
            "\n",
            "A ração que resultou no maior peso médio é: sunflower com 328.9166666666667g\n"
          ]
        }
      ],
      "source": [
        " #o código usa .idxmax(), que retorna o índice do maior valor\n",
        "\n",
        "racao_peso_maximo = media_peso_por_racao.loc[media_peso_por_racao[\"weight\"].idxmax()]\n",
        "print(racao_peso_maximo)\n",
        "\n",
        "# Imprimindo o resultado\n",
        "print(f\"\\nA ração que resultou no maior peso médio é: {racao_peso_maximo['feed']} com {racao_peso_maximo['weight']}g\")\n"
      ]
    },
    {
      "cell_type": "markdown",
      "metadata": {
        "id": "BGTkGg6TLH1E"
      },
      "source": [
        "3. Crie uma tabela que mostre o peso máximo, mínimo e médio\n",
        "para cada tipo de ração."
      ]
    },
    {
      "cell_type": "code",
      "execution_count": null,
      "metadata": {
        "colab": {
          "base_uri": "https://localhost:8080/"
        },
        "id": "rUoA6Al7LLVE",
        "outputId": "ec4dae4c-f6db-49b1-fbb6-78650a8102be"
      },
      "outputs": [
        {
          "name": "stdout",
          "output_type": "stream",
          "text": [
            "        feed  max  min        mean\n",
            "0     casein  404  216  323.583333\n",
            "1  horsebean  227  108  160.200000\n",
            "2    linseed  309  141  218.750000\n",
            "3   meatmeal  380  153  276.909091\n",
            "4    soybean  329  158  246.428571\n",
            "5  sunflower  423  226  328.916667\n"
          ]
        }
      ],
      "source": [
        "#o código agrupa por tipo de ração (feed)\n",
        "#o código usa o método .agg para calcular o peso mínimo, máximo e médio\n",
        "#o código usa .reset_index() para manter o feed como uma coluna normal no DataFrame\n",
        "\n",
        "peso = pintinhos.groupby(\"feed\")[\"weight\"].agg([\"max\", \"min\", \"mean\"]).reset_index()\n",
        "print(peso)"
      ]
    },
    {
      "cell_type": "markdown",
      "metadata": {
        "id": "ZSLer4lPLMTW"
      },
      "source": [
        "# Desafio 6: Attitude\n",
        "Definição do problema: De uma pesquisa com funcionários\n",
        "administrativos de uma grande organização financeira, os dados\n",
        "são agregados dos questionários de aproximadamente 35\n",
        "funcionários para cada um dos 30 departamentos (selecionados\n",
        "aleatoriamente). Os números dão a proporção percentual de\n",
        "respostas favoráveis a sete perguntas em cada departamento.\n",
        "\n",
        "Dicionário:\n",
        "rating: nota geral do departamento\n",
        "complaints: fator categórico sobre reclamações\n",
        "privileges: acesso a benefícios\n",
        "learning: fator categórico sobre aprendizado\n",
        "raises: fator categórico sobre aumentos salariais\n",
        "critical: fator categórico sobre feedback crítico\n",
        "advance: oportunidades de crescimento\n",
        "\n",
        "Código do dataset: Attitude\n",
        "\n",
        "Dicas: Método .reset_index()\n",
        "groupby\n"
      ]
    },
    {
      "cell_type": "code",
      "execution_count": null,
      "metadata": {
        "colab": {
          "base_uri": "https://localhost:8080/"
        },
        "id": "JigY5TjEB51L",
        "outputId": "3971a03e-e515-4cd1-d2b3-a369a1ccb70e",
        "collapsed": true
      },
      "outputs": [
        {
          "name": "stdout",
          "output_type": "stream",
          "text": [
            "Collecting pydataset\n",
            "  Downloading pydataset-0.2.0.tar.gz (15.9 MB)\n",
            "\u001b[2K     \u001b[90m━━━━━━━━━━━━━━━━━━━━━━━━━━━━━━━━━━━━━━━━\u001b[0m \u001b[32m15.9/15.9 MB\u001b[0m \u001b[31m47.1 MB/s\u001b[0m eta \u001b[36m0:00:00\u001b[0m\n",
            "\u001b[?25h  Preparing metadata (setup.py) ... \u001b[?25l\u001b[?25hdone\n",
            "Requirement already satisfied: pandas in /usr/local/lib/python3.11/dist-packages (from pydataset) (2.2.2)\n",
            "Requirement already satisfied: numpy>=1.23.2 in /usr/local/lib/python3.11/dist-packages (from pandas->pydataset) (1.26.4)\n",
            "Requirement already satisfied: python-dateutil>=2.8.2 in /usr/local/lib/python3.11/dist-packages (from pandas->pydataset) (2.8.2)\n",
            "Requirement already satisfied: pytz>=2020.1 in /usr/local/lib/python3.11/dist-packages (from pandas->pydataset) (2025.1)\n",
            "Requirement already satisfied: tzdata>=2022.7 in /usr/local/lib/python3.11/dist-packages (from pandas->pydataset) (2025.1)\n",
            "Requirement already satisfied: six>=1.5 in /usr/local/lib/python3.11/dist-packages (from python-dateutil>=2.8.2->pandas->pydataset) (1.17.0)\n",
            "Building wheels for collected packages: pydataset\n",
            "  Building wheel for pydataset (setup.py) ... \u001b[?25l\u001b[?25hdone\n",
            "  Created wheel for pydataset: filename=pydataset-0.2.0-py3-none-any.whl size=15939417 sha256=f6c6dc5bd84cec9c3215ce424e286bb8753a831965b2ae8e2142cc773672bbc1\n",
            "  Stored in directory: /root/.cache/pip/wheels/29/93/3f/af54c413cecaac292940342c61882d2a8848674175d0bb0889\n",
            "Successfully built pydataset\n",
            "Installing collected packages: pydataset\n",
            "Successfully installed pydataset-0.2.0\n"
          ]
        }
      ],
      "source": [
        "# Instalar e importar bibliotecas necessárias\n",
        "!pip install pydataset\n"
      ]
    },
    {
      "cell_type": "code",
      "execution_count": null,
      "metadata": {
        "colab": {
          "base_uri": "https://localhost:8080/"
        },
        "id": "qikRu0pzB8wx",
        "outputId": "612553dd-f855-481c-98cf-2d09359fb09a"
      },
      "outputs": [
        {
          "name": "stdout",
          "output_type": "stream",
          "text": [
            "initiated datasets repo at: /root/.pydataset/\n"
          ]
        }
      ],
      "source": [
        "import pandas as pd\n",
        "import matplotlib.pyplot as plt\n",
        "import seaborn as sns\n",
        "from pydataset import data\n"
      ]
    },
    {
      "cell_type": "code",
      "execution_count": null,
      "metadata": {
        "id": "9leF_-GCCHnV"
      },
      "outputs": [],
      "source": [
        "# Desafio 6: Attitude\n",
        "df_attitude = data(\"attitude\")"
      ]
    },
    {
      "cell_type": "markdown",
      "metadata": {
        "id": "ha4N9Lr0LmSV"
      },
      "source": [
        "1. Calcule a média de \"aprendizado\" (learning) por nível de\n",
        "motivação (rating)."
      ]
    },
    {
      "cell_type": "code",
      "execution_count": null,
      "metadata": {
        "id": "Sgc6fC7aLz-C"
      },
      "outputs": [],
      "source": [
        "# 1. Média de \"learning\" por nível de motivação (rating)\n",
        "learning_by_rating = df_attitude.groupby(\"rating\")[\"learning\"].mean().reset_index()\n",
        "print(\"Média de aprendizado por rating:\")\n",
        "print(learning_by_rating)\n"
      ]
    },
    {
      "cell_type": "code",
      "execution_count": null,
      "metadata": {
        "id": "f30_rDZODk73"
      },
      "outputs": [],
      "source": [
        "# Criar a variável learning_by_rating corretamente\n",
        "learning_by_rating = df_attitude.groupby(\"rating\")[\"learning\"].mean().reset_index()\n"
      ]
    },
    {
      "cell_type": "code",
      "execution_count": null,
      "metadata": {
        "colab": {
          "base_uri": "https://localhost:8080/",
          "height": 595
        },
        "id": "SDIreyFuDnVq",
        "outputId": "864446f8-3609-4c37-9bc9-6341ed081f76"
      },
      "outputs": [
        {
          "name": "stderr",
          "output_type": "stream",
          "text": [
            "<ipython-input-6-effd71ed56fa>:3: FutureWarning: \n",
            "\n",
            "Passing `palette` without assigning `hue` is deprecated and will be removed in v0.14.0. Assign the `x` variable to `hue` and set `legend=False` for the same effect.\n",
            "\n",
            "  sns.barplot(x='rating', y='learning', data=learning_by_rating, palette='coolwarm')\n"
          ]
        },
        {
          "data": {
            "image/png": "[encoded data removed]",
            "text/plain": [
              "<Figure size 800x500 with 1 Axes>"
            ]
          },
          "metadata": {},
          "output_type": "display_data"
        }
      ],
      "source": [
        "# Gráfico\n",
        "plt.figure(figsize=(8,5))\n",
        "sns.barplot(x='rating', y='learning', data=learning_by_rating, palette='coolwarm')\n",
        "plt.title('Média de Aprendizado por Nível de Motivação')\n",
        "plt.xlabel('Nível de Motivação')\n",
        "plt.ylabel('Média de Aprendizado')\n",
        "plt.show()"
      ]
    },
    {
      "cell_type": "markdown",
      "metadata": {
        "id": "2_dJGqEGL0cl"
      },
      "source": [
        "2. Encontre a combinação de rating e complaints que possui o\n",
        "maior valor médio de aprendizado."
      ]
    },
    {
      "cell_type": "code",
      "execution_count": null,
      "metadata": {
        "colab": {
          "base_uri": "https://localhost:8080/"
        },
        "id": "_9cRVvZ3MOs-",
        "outputId": "56de7ba2-1b64-4e5a-9ee4-c0c5fcc46718"
      },
      "outputs": [
        {
          "name": "stdout",
          "output_type": "stream",
          "text": [
            "Maior média de aprendizado: Rating 65, Complaints 60\n"
          ]
        }
      ],
      "source": [
        "# 2. Combinação de rating e complaints com maior valor médio de aprendizado\n",
        "max_learning = df_attitude.groupby([\"rating\", \"complaints\"])[\"learning\"].mean().idxmax()\n",
        "print(f\"Maior média de aprendizado: Rating {max_learning[0]}, Complaints {max_learning[1]}\")"
      ]
    },
    {
      "cell_type": "markdown",
      "metadata": {
        "id": "XSkxkIxUMQIA"
      },
      "source": [
        "3. Qual é o nível médio de aprendizado para funcionários que\n",
        "receberam aumentos (raises) acima da média?\n"
      ]
    },
    {
      "cell_type": "code",
      "execution_count": null,
      "metadata": {
        "colab": {
          "base_uri": "https://localhost:8080/"
        },
        "id": "bMmBdPykMU_U",
        "outputId": "8117cba3-520c-4dae-d8c2-dfba673e01d4"
      },
      "outputs": [
        {
          "name": "stdout",
          "output_type": "stream",
          "text": [
            "Nível médio de aprendizado para quem recebeu aumentos acima da média: 63.77\n"
          ]
        }
      ],
      "source": [
        "# 3. Nível médio de aprendizado para funcionários que receberam aumentos acima da média\n",
        "avg_raises = df_attitude[\"raises\"].mean()\n",
        "learning_high_raises = df_attitude[df_attitude[\"raises\"] > avg_raises][\"learning\"].mean()\n",
        "print(f\"Nível médio de aprendizado para quem recebeu aumentos acima da média: {learning_high_raises:.2f}\")"
      ]
    },
    {
      "cell_type": "markdown",
      "metadata": {
        "id": "Qfx0uK4uMZcF"
      },
      "source": [
        "# Desafio 7: Titanic\n",
        "Definição do problema: Dado que você está trabalhando com um\n",
        "grupo de historiadores que estão analisando o naufrágio do Titanic,\n",
        "informe aos historiadores as seguintes questões:\n",
        "\n",
        "Código do dataset: titanic\n",
        "\n",
        "Dicas:\n",
        "atributo do DataFrame: shape\n",
        "Método map()\n",
        "Método groupby()\n"
      ]
    },
    {
      "cell_type": "code",
      "execution_count": 48,
      "metadata": {
        "id": "BE_F6TeuHnxr"
      },
      "outputs": [],
      "source": [
        "import pandas as pd  # Manipulação de dados\n",
        "import numpy as np  # Cálculos matemáticos\n",
        "import matplotlib.pyplot as plt  # Gráficos\n",
        "import seaborn as sns  # Gráficos mais bonitos\n",
        "from pydataset import data  # Para carregar datasets diretamente\n"
      ]
    },
    {
      "cell_type": "code",
      "execution_count": 49,
      "metadata": {
        "colab": {
          "base_uri": "https://localhost:8080/"
        },
        "id": "mR6_ycWTH96X",
        "outputId": "a7fc29a6-de06-4767-8723-2a552b639c70"
      },
      "outputs": [
        {
          "output_type": "stream",
          "name": "stdout",
          "text": [
            "Bibliotecas importadas com sucesso!\n"
          ]
        }
      ],
      "source": [
        "print(\"Bibliotecas importadas com sucesso!\")\n"
      ]
    },
    {
      "cell_type": "code",
      "execution_count": 50,
      "metadata": {
        "colab": {
          "base_uri": "https://localhost:8080/"
        },
        "id": "MdV1TXMKIMfT",
        "outputId": "d68f420f-c7f5-4754-ea17-c9c0ba347029"
      },
      "outputs": [
        {
          "output_type": "stream",
          "name": "stdout",
          "text": [
            "Dataset carregado com sucesso!\n"
          ]
        }
      ],
      "source": [
        "df = data(\"titanic\")  # Carregar dataset Titanic\n",
        "print(\"Dataset carregado com sucesso!\")\n"
      ]
    },
    {
      "cell_type": "code",
      "execution_count": 51,
      "metadata": {
        "id": "rwiFNboeIYY0",
        "collapsed": true,
        "colab": {
          "base_uri": "https://localhost:8080/"
        },
        "outputId": "39ddfab6-41af-44d1-f931-6861704d24ab"
      },
      "outputs": [
        {
          "output_type": "stream",
          "name": "stdout",
          "text": [
            "Verificando informações do dataset...\n",
            "<class 'pandas.core.frame.DataFrame'>\n",
            "Index: 1316 entries, 1 to 1316\n",
            "Data columns (total 4 columns):\n",
            " #   Column    Non-Null Count  Dtype \n",
            "---  ------    --------------  ----- \n",
            " 0   class     1316 non-null   object\n",
            " 1   age       1316 non-null   object\n",
            " 2   sex       1316 non-null   object\n",
            " 3   survived  1316 non-null   object\n",
            "dtypes: object(4)\n",
            "memory usage: 51.4+ KB\n"
          ]
        }
      ],
      "source": [
        "print(\"Verificando informações do dataset...\")\n",
        "df.info()\n"
      ]
    },
    {
      "cell_type": "code",
      "execution_count": 52,
      "metadata": {
        "id": "Tbua3MaaIhpb",
        "colab": {
          "base_uri": "https://localhost:8080/",
          "height": 243
        },
        "collapsed": true,
        "outputId": "fc27675a-4f91-4370-9d3f-84e6fd3bcd04"
      },
      "outputs": [
        {
          "output_type": "stream",
          "name": "stdout",
          "text": [
            "Verificando estatísticas básicas...\n"
          ]
        },
        {
          "output_type": "execute_result",
          "data": {
            "text/plain": [
              "            class     age   sex survived\n",
              "count        1316    1316  1316     1316\n",
              "unique          3       2     2        2\n",
              "top     3rd class  adults   man       no\n",
              "freq          706    1207   869      817"
            ],
            "text/html": [
              "\n",
              "  <div id=\"df-41c5c979-d90c-4f39-a487-08adf65af09b\" class=\"colab-df-container\">\n",
              "    <div>\n",
              "<style scoped>\n",
              "    .dataframe tbody tr th:only-of-type {\n",
              "        vertical-align: middle;\n",
              "    }\n",
              "\n",
              "    .dataframe tbody tr th {\n",
              "        vertical-align: top;\n",
              "    }\n",
              "\n",
              "    .dataframe thead th {\n",
              "        text-align: right;\n",
              "    }\n",
              "</style>\n",
              "<table border=\"1\" class=\"dataframe\">\n",
              "  <thead>\n",
              "    <tr style=\"text-align: right;\">\n",
              "      <th></th>\n",
              "      <th>class</th>\n",
              "      <th>age</th>\n",
              "      <th>sex</th>\n",
              "      <th>survived</th>\n",
              "    </tr>\n",
              "  </thead>\n",
              "  <tbody>\n",
              "    <tr>\n",
              "      <th>count</th>\n",
              "      <td>1316</td>\n",
              "      <td>1316</td>\n",
              "      <td>1316</td>\n",
              "      <td>1316</td>\n",
              "    </tr>\n",
              "    <tr>\n",
              "      <th>unique</th>\n",
              "      <td>3</td>\n",
              "      <td>2</td>\n",
              "      <td>2</td>\n",
              "      <td>2</td>\n",
              "    </tr>\n",
              "    <tr>\n",
              "      <th>top</th>\n",
              "      <td>3rd class</td>\n",
              "      <td>adults</td>\n",
              "      <td>man</td>\n",
              "      <td>no</td>\n",
              "    </tr>\n",
              "    <tr>\n",
              "      <th>freq</th>\n",
              "      <td>706</td>\n",
              "      <td>1207</td>\n",
              "      <td>869</td>\n",
              "      <td>817</td>\n",
              "    </tr>\n",
              "  </tbody>\n",
              "</table>\n",
              "</div>\n",
              "    <div class=\"colab-df-buttons\">\n",
              "\n",
              "  <div class=\"colab-df-container\">\n",
              "    <button class=\"colab-df-convert\" onclick=\"convertToInteractive('df-41c5c979-d90c-4f39-a487-08adf65af09b')\"\n",
              "            title=\"Convert this dataframe to an interactive table.\"\n",
              "            style=\"display:none;\">\n",
              "\n",
              "  <svg xmlns=\"http://www.w3.org/2000/svg\" height=\"24px\" viewBox=\"0 -960 960 960\">\n",
              "    <path d=\"M120-120v-720h720v720H120Zm60-500h600v-160H180v160Zm220 220h160v-160H400v160Zm0 220h160v-160H400v160ZM180-400h160v-160H180v160Zm440 0h160v-160H620v160ZM180-180h160v-160H180v160Zm440 0h160v-160H620v160Z\"/>\n",
              "  </svg>\n",
              "    </button>\n",
              "\n",
              "  <style>\n",
              "    .colab-df-container {\n",
              "      display:flex;\n",
              "      gap: 12px;\n",
              "    }\n",
              "\n",
              "    .colab-df-convert {\n",
              "      background-color: #E8F0FE;\n",
              "      border: none;\n",
              "      border-radius: 50%;\n",
              "      cursor: pointer;\n",
              "      display: none;\n",
              "      fill: #1967D2;\n",
              "      height: 32px;\n",
              "      padding: 0 0 0 0;\n",
              "      width: 32px;\n",
              "    }\n",
              "\n",
              "    .colab-df-convert:hover {\n",
              "      background-color: #E2EBFA;\n",
              "      box-shadow: 0px 1px 2px rgba(60, 64, 67, 0.3), 0px 1px 3px 1px rgba(60, 64, 67, 0.15);\n",
              "      fill: #174EA6;\n",
              "    }\n",
              "\n",
              "    .colab-df-buttons div {\n",
              "      margin-bottom: 4px;\n",
              "    }\n",
              "\n",
              "    [theme=dark] .colab-df-convert {\n",
              "      background-color: #3B4455;\n",
              "      fill: #D2E3FC;\n",
              "    }\n",
              "\n",
              "    [theme=dark] .colab-df-convert:hover {\n",
              "      background-color: #434B5C;\n",
              "      box-shadow: 0px 1px 3px 1px rgba(0, 0, 0, 0.15);\n",
              "      filter: drop-shadow(0px 1px 2px rgba(0, 0, 0, 0.3));\n",
              "      fill: #FFFFFF;\n",
              "    }\n",
              "  </style>\n",
              "\n",
              "    <script>\n",
              "      const buttonEl =\n",
              "        document.querySelector('#df-41c5c979-d90c-4f39-a487-08adf65af09b button.colab-df-convert');\n",
              "      buttonEl.style.display =\n",
              "        google.colab.kernel.accessAllowed ? 'block' : 'none';\n",
              "\n",
              "      async function convertToInteractive(key) {\n",
              "        const element = document.querySelector('#df-41c5c979-d90c-4f39-a487-08adf65af09b');\n",
              "        const dataTable =\n",
              "          await google.colab.kernel.invokeFunction('convertToInteractive',\n",
              "                                                    [key], {});\n",
              "        if (!dataTable) return;\n",
              "\n",
              "        const docLinkHtml = 'Like what you see? Visit the ' +\n",
              "          '<a target=\"_blank\" href=https://colab.research.google.com/notebooks/data_table.ipynb>data table notebook</a>'\n",
              "          + ' to learn more about interactive tables.';\n",
              "        element.innerHTML = '';\n",
              "        dataTable['output_type'] = 'display_data';\n",
              "        await google.colab.output.renderOutput(dataTable, element);\n",
              "        const docLink = document.createElement('div');\n",
              "        docLink.innerHTML = docLinkHtml;\n",
              "        element.appendChild(docLink);\n",
              "      }\n",
              "    </script>\n",
              "  </div>\n",
              "\n",
              "\n",
              "<div id=\"df-5994a261-2aa1-402f-bc32-eb9f7124b1d6\">\n",
              "  <button class=\"colab-df-quickchart\" onclick=\"quickchart('df-5994a261-2aa1-402f-bc32-eb9f7124b1d6')\"\n",
              "            title=\"Suggest charts\"\n",
              "            style=\"display:none;\">\n",
              "\n",
              "<svg xmlns=\"http://www.w3.org/2000/svg\" height=\"24px\"viewBox=\"0 0 24 24\"\n",
              "     width=\"24px\">\n",
              "    <g>\n",
              "        <path d=\"M19 3H5c-1.1 0-2 .9-2 2v14c0 1.1.9 2 2 2h14c1.1 0 2-.9 2-2V5c0-1.1-.9-2-2-2zM9 17H7v-7h2v7zm4 0h-2V7h2v10zm4 0h-2v-4h2v4z\"/>\n",
              "    </g>\n",
              "</svg>\n",
              "  </button>\n",
              "\n",
              "<style>\n",
              "  .colab-df-quickchart {\n",
              "      --bg-color: #E8F0FE;\n",
              "      --fill-color: #1967D2;\n",
              "      --hover-bg-color: #E2EBFA;\n",
              "      --hover-fill-color: #174EA6;\n",
              "      --disabled-fill-color: #AAA;\n",
              "      --disabled-bg-color: #DDD;\n",
              "  }\n",
              "\n",
              "  [theme=dark] .colab-df-quickchart {\n",
              "      --bg-color: #3B4455;\n",
              "      --fill-color: #D2E3FC;\n",
              "      --hover-bg-color: #434B5C;\n",
              "      --hover-fill-color: #FFFFFF;\n",
              "      --disabled-bg-color: #3B4455;\n",
              "      --disabled-fill-color: #666;\n",
              "  }\n",
              "\n",
              "  .colab-df-quickchart {\n",
              "    background-color: var(--bg-color);\n",
              "    border: none;\n",
              "    border-radius: 50%;\n",
              "    cursor: pointer;\n",
              "    display: none;\n",
              "    fill: var(--fill-color);\n",
              "    height: 32px;\n",
              "    padding: 0;\n",
              "    width: 32px;\n",
              "  }\n",
              "\n",
              "  .colab-df-quickchart:hover {\n",
              "    background-color: var(--hover-bg-color);\n",
              "    box-shadow: 0 1px 2px rgba(60, 64, 67, 0.3), 0 1px 3px 1px rgba(60, 64, 67, 0.15);\n",
              "    fill: var(--button-hover-fill-color);\n",
              "  }\n",
              "\n",
              "  .colab-df-quickchart-complete:disabled,\n",
              "  .colab-df-quickchart-complete:disabled:hover {\n",
              "    background-color: var(--disabled-bg-color);\n",
              "    fill: var(--disabled-fill-color);\n",
              "    box-shadow: none;\n",
              "  }\n",
              "\n",
              "  .colab-df-spinner {\n",
              "    border: 2px solid var(--fill-color);\n",
              "    border-color: transparent;\n",
              "    border-bottom-color: var(--fill-color);\n",
              "    animation:\n",
              "      spin 1s steps(1) infinite;\n",
              "  }\n",
              "\n",
              "  @keyframes spin {\n",
              "    0% {\n",
              "      border-color: transparent;\n",
              "      border-bottom-color: var(--fill-color);\n",
              "      border-left-color: var(--fill-color);\n",
              "    }\n",
              "    20% {\n",
              "      border-color: transparent;\n",
              "      border-left-color: var(--fill-color);\n",
              "      border-top-color: var(--fill-color);\n",
              "    }\n",
              "    30% {\n",
              "      border-color: transparent;\n",
              "      border-left-color: var(--fill-color);\n",
              "      border-top-color: var(--fill-color);\n",
              "      border-right-color: var(--fill-color);\n",
              "    }\n",
              "    40% {\n",
              "      border-color: transparent;\n",
              "      border-right-color: var(--fill-color);\n",
              "      border-top-color: var(--fill-color);\n",
              "    }\n",
              "    60% {\n",
              "      border-color: transparent;\n",
              "      border-right-color: var(--fill-color);\n",
              "    }\n",
              "    80% {\n",
              "      border-color: transparent;\n",
              "      border-right-color: var(--fill-color);\n",
              "      border-bottom-color: var(--fill-color);\n",
              "    }\n",
              "    90% {\n",
              "      border-color: transparent;\n",
              "      border-bottom-color: var(--fill-color);\n",
              "    }\n",
              "  }\n",
              "</style>\n",
              "\n",
              "  <script>\n",
              "    async function quickchart(key) {\n",
              "      const quickchartButtonEl =\n",
              "        document.querySelector('#' + key + ' button');\n",
              "      quickchartButtonEl.disabled = true;  // To prevent multiple clicks.\n",
              "      quickchartButtonEl.classList.add('colab-df-spinner');\n",
              "      try {\n",
              "        const charts = await google.colab.kernel.invokeFunction(\n",
              "            'suggestCharts', [key], {});\n",
              "      } catch (error) {\n",
              "        console.error('Error during call to suggestCharts:', error);\n",
              "      }\n",
              "      quickchartButtonEl.classList.remove('colab-df-spinner');\n",
              "      quickchartButtonEl.classList.add('colab-df-quickchart-complete');\n",
              "    }\n",
              "    (() => {\n",
              "      let quickchartButtonEl =\n",
              "        document.querySelector('#df-5994a261-2aa1-402f-bc32-eb9f7124b1d6 button');\n",
              "      quickchartButtonEl.style.display =\n",
              "        google.colab.kernel.accessAllowed ? 'block' : 'none';\n",
              "    })();\n",
              "  </script>\n",
              "</div>\n",
              "\n",
              "    </div>\n",
              "  </div>\n"
            ],
            "application/vnd.google.colaboratory.intrinsic+json": {
              "type": "dataframe",
              "summary": "{\n  \"name\": \"df\",\n  \"rows\": 4,\n  \"fields\": [\n    {\n      \"column\": \"class\",\n      \"properties\": {\n        \"dtype\": \"string\",\n        \"num_unique_values\": 4,\n        \"samples\": [\n          3,\n          \"706\",\n          \"1316\"\n        ],\n        \"semantic_type\": \"\",\n        \"description\": \"\"\n      }\n    },\n    {\n      \"column\": \"age\",\n      \"properties\": {\n        \"dtype\": \"string\",\n        \"num_unique_values\": 4,\n        \"samples\": [\n          2,\n          \"1207\",\n          \"1316\"\n        ],\n        \"semantic_type\": \"\",\n        \"description\": \"\"\n      }\n    },\n    {\n      \"column\": \"sex\",\n      \"properties\": {\n        \"dtype\": \"string\",\n        \"num_unique_values\": 4,\n        \"samples\": [\n          2,\n          \"869\",\n          \"1316\"\n        ],\n        \"semantic_type\": \"\",\n        \"description\": \"\"\n      }\n    },\n    {\n      \"column\": \"survived\",\n      \"properties\": {\n        \"dtype\": \"string\",\n        \"num_unique_values\": 4,\n        \"samples\": [\n          2,\n          \"817\",\n          \"1316\"\n        ],\n        \"semantic_type\": \"\",\n        \"description\": \"\"\n      }\n    }\n  ]\n}"
            }
          },
          "metadata": {},
          "execution_count": 52
        }
      ],
      "source": [
        "print(\"Verificando estatísticas básicas...\")\n",
        "df.describe()\n"
      ]
    },
    {
      "cell_type": "markdown",
      "metadata": {
        "id": "0-dHnNPUMxQg"
      },
      "source": [
        "1. Qual a taxa de sobrevivência geral no navio?\n"
      ]
    },
    {
      "cell_type": "code",
      "source": [
        "# Convertendo \"yes\" para 1 e \"no\" para 0\n",
        "df[\"survived\"] = df[\"survived\"].map({\"yes\": 1, \"no\": 0})\n",
        "\n",
        "# Verificando a conversão\n",
        "print(df[\"survived\"].unique())  # Deve mostrar [1, 0]\n",
        "\n",
        "# Agora podemos calcular a taxa de sobrevivência\n",
        "taxa_sobrevivencia_geral = df[\"survived\"].mean() * 100\n",
        "print(f\"Taxa de sobrevivência geral: {taxa_sobrevivencia_geral:.2f}%\")\n"
      ],
      "metadata": {
        "colab": {
          "base_uri": "https://localhost:8080/"
        },
        "id": "FOdD6pk0SUjy",
        "outputId": "9ba97144-7ea6-4163-b58a-d3047454b155"
      },
      "execution_count": 53,
      "outputs": [
        {
          "output_type": "stream",
          "name": "stdout",
          "text": [
            "[1 0]\n",
            "Taxa de sobrevivência geral: 37.92%\n"
          ]
        }
      ]
    },
    {
      "cell_type": "markdown",
      "metadata": {
        "id": "7Sy2cgpvM0CO"
      },
      "source": [
        "2. Qual a taxa de sobrevivência por classe (Pclass)?\n"
      ]
    },
    {
      "cell_type": "code",
      "source": [
        "print(\"Colunas do dataset:\", df.columns)\n"
      ],
      "metadata": {
        "colab": {
          "base_uri": "https://localhost:8080/"
        },
        "id": "pPuglL8-TAHv",
        "outputId": "185a0cb4-4936-441d-ebfc-fdd004f6455a"
      },
      "execution_count": 54,
      "outputs": [
        {
          "output_type": "stream",
          "name": "stdout",
          "text": [
            "Colunas do dataset: Index(['class', 'age', 'sex', 'survived'], dtype='object')\n"
          ]
        }
      ]
    },
    {
      "cell_type": "code",
      "source": [
        "print(\"Taxa de sobrevivência por classe:\")\n",
        "for classe, taxa in taxa_sobrevivencia_por_classe.items():\n",
        "    print(f\"- {classe}: {taxa:.2f}%\")\n"
      ],
      "metadata": {
        "colab": {
          "base_uri": "https://localhost:8080/"
        },
        "id": "wXrm6tltTlxR",
        "outputId": "24d8565d-2e4e-4afc-93fb-09bb0d9a60d2"
      },
      "execution_count": 55,
      "outputs": [
        {
          "output_type": "stream",
          "name": "stdout",
          "text": [
            "Taxa de sobrevivência por classe:\n",
            "- 1st class: 62.46%\n",
            "- 2nd class: 41.40%\n",
            "- 3rd class: 25.21%\n"
          ]
        }
      ]
    },
    {
      "cell_type": "markdown",
      "metadata": {
        "id": "3iGNRGKqM21S"
      },
      "source": [
        "3. Qual o sexo com maior taxa de sobrevivência?\n"
      ]
    },
    {
      "cell_type": "code",
      "source": [
        "print(\"\\nTaxa de sobrevivência por sexo:\")\n",
        "for sexo, taxa in taxa_sobrevivencia_por_sexo.items():\n",
        "    print(f\"- {sexo.capitalize()}: {taxa:.2f}%\")\n"
      ],
      "metadata": {
        "colab": {
          "base_uri": "https://localhost:8080/"
        },
        "id": "aT4iDXCpT_sC",
        "outputId": "6af14c79-3c6d-4800-85f1-e1f24555088f"
      },
      "execution_count": 56,
      "outputs": [
        {
          "output_type": "stream",
          "name": "stdout",
          "text": [
            "\n",
            "Taxa de sobrevivência por sexo:\n",
            "- Man: 20.14%\n",
            "- Women: 72.48%\n"
          ]
        }
      ]
    },
    {
      "cell_type": "markdown",
      "metadata": {
        "id": "Su5L0TW_M5bF"
      },
      "source": [
        "4. Baseado nos dados informados. Qual a quantidade de adultos e\n",
        "crianças (sobreviventes) e não sobreviventes ?"
      ]
    },
    {
      "cell_type": "code",
      "source": [
        "\n",
        "# Considerando que crianças são aquelas com idade < 18\n",
        "# No dataset do pydataset, a coluna de idade não está disponível, então vamos usar 'age' como 'adult' ou 'child'\n",
        "df['Categoria'] = df['age'].apply(lambda x: 'Criança' if x == 'child' else 'Adulto')\n"
      ],
      "metadata": {
        "id": "YiEDAQ0MqsRH"
      },
      "execution_count": 59,
      "outputs": []
    },
    {
      "cell_type": "code",
      "source": [
        "# Agrupando por categoria e sobrevivência\n",
        "sobreviventes_categoria = df[df['survived'] == 1].groupby('Categoria').size()\n",
        "nao_sobreviventes_categoria = df[df['survived'] == 0].groupby('Categoria').size()"
      ],
      "metadata": {
        "id": "b5SqHHsurGXZ"
      },
      "execution_count": 60,
      "outputs": []
    },
    {
      "cell_type": "code",
      "source": [
        "print(\"\\n4. Quantidade de adultos e crianças:\")\n",
        "print(\"Sobreviventes:\")\n",
        "print(sobreviventes_categoria)\n",
        "print(\"\\nNão sobreviventes:\")\n",
        "print(nao_sobreviventes_categoria)"
      ],
      "metadata": {
        "colab": {
          "base_uri": "https://localhost:8080/"
        },
        "id": "ky-7Po0orPoo",
        "outputId": "fd1d7517-d312-4fd3-ae9d-cecf60cc1814"
      },
      "execution_count": 61,
      "outputs": [
        {
          "output_type": "stream",
          "name": "stdout",
          "text": [
            "\n",
            "4. Quantidade de adultos e crianças:\n",
            "Sobreviventes:\n",
            "Categoria\n",
            "Adulto     442\n",
            "Criança     57\n",
            "dtype: int64\n",
            "\n",
            "Não sobreviventes:\n",
            "Categoria\n",
            "Adulto     765\n",
            "Criança     52\n",
            "dtype: int64\n"
          ]
        }
      ]
    }
  ],
  "metadata": {
    "colab": {
      "provenance": [],
      "toc_visible": true
    },
    "kernelspec": {
      "display_name": "Python 3",
      "name": "python3"
    },
    "language_info": {
      "name": "python"
    }
  },
  "nbformat": 4,
  "nbformat_minor": 0
}